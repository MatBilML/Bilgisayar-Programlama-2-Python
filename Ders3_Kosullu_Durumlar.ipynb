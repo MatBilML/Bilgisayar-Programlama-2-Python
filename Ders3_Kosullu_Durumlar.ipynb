{
  "nbformat": 4,
  "nbformat_minor": 0,
  "metadata": {
    "colab": {
      "name": "Ders3-Kosullu-Durumlar.ipynb",
      "version": "0.3.2",
      "views": {},
      "default_view": {},
      "provenance": [],
      "collapsed_sections": [],
      "toc_visible": true
    }
  },
  "cells": [
    {
      "metadata": {
        "id": "G2SvSuQSqWPx",
        "colab_type": "code",
        "colab": {
          "autoexec": {
            "startup": false,
            "wait_interval": 0
          }
        }
      },
      "cell_type": "code",
      "source": [
        ""
      ],
      "execution_count": 0,
      "outputs": []
    },
    {
      "metadata": {
        "id": "t9T86UbRqcuo",
        "colab_type": "text"
      },
      "cell_type": "markdown",
      "source": [
        "# **Koşullu Durumlar**\n",
        "\n",
        "* Koşullu Durum Blokları - If ve Else Blokları\n",
        "* Koşullu Durum Blokları - If - Elif - Else Blokları\n",
        "* Ders içi uygulamalar\n",
        "* Haftalık Ödev"
      ]
    },
    {
      "metadata": {
        "id": "ZN6o1PsvbN5u",
        "colab_type": "text"
      },
      "cell_type": "markdown",
      "source": [
        "# **if Blogu**\n",
        "\n",
        "if (koşul): \n",
        "           \n",
        "           *if bloğu - koşul sağlandığında blok içerisindeki kodu çalıştırır. if blogundan sonra çalıştırılacak kodlar girinti oluşturularak yazılılır.\n",
        "           \n",
        "           if(durum) :\n",
        "              calismasi_gereken_kod\n"
      ]
    },
    {
      "metadata": {
        "id": "wBEuDFf_cDFk",
        "colab_type": "code",
        "colab": {
          "autoexec": {
            "startup": false,
            "wait_interval": 0
          },
          "output_extras": [
            {
              "item_id": 2
            }
          ],
          "base_uri": "https://localhost:8080/",
          "height": 68
        },
        "outputId": "3d969b1a-f91a-4e90-c6cb-4ba51751c967",
        "executionInfo": {
          "status": "ok",
          "timestamp": 1519712178752,
          "user_tz": -120,
          "elapsed": 4407,
          "user": {
            "displayName": "Özer ÇELİK",
            "photoUrl": "//lh5.googleusercontent.com/-zXWHLydZydg/AAAAAAAAAAI/AAAAAAAACUE/Vk-d5hrZI64/s50-c-k-no/photo.jpg",
            "userId": "109393400238666254492"
          }
        }
      },
      "cell_type": "code",
      "source": [
        "notunuz = int(input(\"Not ortalamanizi giriniz:\"))\n",
        "\n",
        "if (notunuz < 35):\n",
        "    print(\"Kaldınız.\")\n",
        "    \n",
        "print(\"Dönem sonu karar:basarisiz\" )"
      ],
      "execution_count": 3,
      "outputs": [
        {
          "output_type": "stream",
          "text": [
            "Not ortalamanizi giriniz:30\n",
            "Kaldınız.\n",
            "Dönem sonu karar:basarisiz\n"
          ],
          "name": "stdout"
        }
      ]
    },
    {
      "metadata": {
        "id": "XItsvzwtb2CH",
        "colab_type": "text"
      },
      "cell_type": "markdown",
      "source": [
        "# **else Blogu**\n",
        " \n",
        " else:\n",
        "       \n",
        "       *else bloğu - if durumu sağlanmıyorsa else blogu işleme alınır, else blogunda çalışması gereken kodlar girinti oluşturularak yazılır\n",
        "       \n",
        "       else:\n",
        "          calismasi_gereken_kod"
      ]
    },
    {
      "metadata": {
        "id": "10QidZ9ucNI9",
        "colab_type": "code",
        "colab": {
          "autoexec": {
            "startup": false,
            "wait_interval": 0
          },
          "output_extras": [
            {
              "item_id": 2
            }
          ],
          "base_uri": "https://localhost:8080/",
          "height": 51
        },
        "outputId": "99667b18-d4e0-454b-ffc3-593902f78079",
        "executionInfo": {
          "status": "ok",
          "timestamp": 1519712405248,
          "user_tz": -120,
          "elapsed": 15495,
          "user": {
            "displayName": "Özer ÇELİK",
            "photoUrl": "//lh5.googleusercontent.com/-zXWHLydZydg/AAAAAAAAAAI/AAAAAAAACUE/Vk-d5hrZI64/s50-c-k-no/photo.jpg",
            "userId": "109393400238666254492"
          }
        }
      },
      "cell_type": "code",
      "source": [
        "notunuz = int(input(\"Not ortalamanizi giriniz:\"))\n",
        "\n",
        "if (notunuz < 35):\n",
        "    # if bloğunda çalışacak kodların girinti ile oluştuğuna dikkat ediniz\n",
        "    print(\"Kaldınız\")\n",
        "else:\n",
        "    # else bloğunda çalışacak kodların girinti ile oluştuğuna dikkat ediniz\n",
        "    print(\"Geçtiniz\")"
      ],
      "execution_count": 4,
      "outputs": [
        {
          "output_type": "stream",
          "text": [
            "Not ortalamanizi giriniz:35\n",
            "Geçtiniz\n"
          ],
          "name": "stdout"
        }
      ]
    },
    {
      "metadata": {
        "id": "kMLjqdnScZmm",
        "colab_type": "text"
      },
      "cell_type": "markdown",
      "source": [
        "# **if else blogu**\n",
        "\n",
        "           if koşul: \n",
        "              Yapılacak İşlemler\n",
        "           elif başka bir koşul:\n",
        "              Yapılacak İşlemler\n",
        "           elif başka bir koşul:\n",
        "               apılacak İşlemler\n",
        "           //\n",
        "           else:\n",
        "               Yapılacak İşlemler "
      ]
    },
    {
      "metadata": {
        "id": "dZ8OUk5dc0wx",
        "colab_type": "code",
        "colab": {
          "autoexec": {
            "startup": false,
            "wait_interval": 0
          }
        }
      },
      "cell_type": "code",
      "source": [
        "islem =  int(input(\"İşlem seçiniz:\")) \n",
        "\n",
        "if islem == 1:\n",
        "    print(\"1. işlem seçildi.\")\n",
        "elif islem == 2:\n",
        "    print(\"2. işlem seçildi.\")\n",
        "elif islem == 3:\n",
        "    print(\"3. işlem seçildi.\")\n",
        "else:\n",
        "    print(\"Geçersiz İşlem!\")"
      ],
      "execution_count": 0,
      "outputs": []
    },
    {
      "metadata": {
        "id": "ksQQgcnsdS5V",
        "colab_type": "text"
      },
      "cell_type": "markdown",
      "source": [
        "# **if-if-if Blogu**\n",
        "\n",
        "\n",
        "\n",
        "    if (koşul): \n",
        "          Yapılacak İşlemler\n",
        "    if (koşul): \n",
        "           Yapılacak İşlemler\n",
        "    if (koşul): \n",
        "          Yapılacak İşlemler     "
      ]
    },
    {
      "metadata": {
        "id": "tFjMYk9ZeggB",
        "colab_type": "code",
        "colab": {
          "autoexec": {
            "startup": false,
            "wait_interval": 0
          }
        }
      },
      "cell_type": "code",
      "source": [
        "note = float(input(\"Notunuzu giriniz:\"))\n",
        "\n",
        "if note >= 90:\n",
        "    print(\"AA\")\n",
        "if note >= 85:\n",
        "    print(\"BA\")\n",
        "if note >= 90:\n",
        "    print(\"BA\")\n",
        "if note >= 80:\n",
        "    print(\"BB\")\n",
        "if note >= 75:\n",
        "    print(\"CB\")\n",
        "if note >= 70:\n",
        "    print(\"CC\")\n",
        "if note >= 65:\n",
        "    print(\"DC\")\n",
        "if note >= 60:\n",
        "    print(\"DD\")\n",
        "else:\n",
        "    print(\"Dersten Kaldınız\")"
      ],
      "execution_count": 0,
      "outputs": []
    }
  ]
}