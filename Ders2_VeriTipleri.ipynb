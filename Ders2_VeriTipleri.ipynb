{
  "nbformat": 4,
  "nbformat_minor": 0,
  "metadata": {
    "colab": {
      "name": "Ders2-VeriTipleri.ipynb",
      "version": "0.3.2",
      "views": {},
      "default_view": {},
      "provenance": []
    }
  },
  "cells": [
    {
      "metadata": {
        "id": "nKxzlVcfpbud",
        "colab_type": "text"
      },
      "cell_type": "markdown",
      "source": [
        "# **Veri Tipleri**\n",
        "\n",
        "*  Demet Veri Tipleri - Tuplelar\n",
        "*  Sözlük Veri Tipleri - Dictionaryler\n",
        "*  Listeler\n",
        "* Ders içi uygulamalar\n"
      ]
    },
    {
      "metadata": {
        "id": "su4Mclrgpntx",
        "colab_type": "text"
      },
      "cell_type": "markdown",
      "source": [
        "# Demet Veri Tipleri - Tuplelar\n",
        "\n",
        "Demetlerin yapısı listelere benzemektedir. Fakat Demetler değişken olarak tanımladıktan sonra değiştirilemez\n",
        "\n",
        "Demet Tanımlama Şekli;\n",
        "\n",
        "**demet_ornek=(2,3,45,6) **\n",
        "\n",
        "Olarak tanımlanır, python () içerisinde yer aldığında ve virgül ile ayrım yapıldığında demet olarak tanımlar"
      ]
    },
    {
      "metadata": {
        "id": "0Rl6pfRpdInd",
        "colab_type": "code",
        "colab": {
          "autoexec": {
            "startup": false,
            "wait_interval": 0
          },
          "output_extras": [
            {
              "item_id": 1
            }
          ],
          "base_uri": "https://localhost:8080/",
          "height": 34
        },
        "outputId": "d0b7b7bc-9c08-48cb-8270-f441ddfb2466",
        "executionInfo": {
          "status": "ok",
          "timestamp": 1519067156513,
          "user_tz": -120,
          "elapsed": 705,
          "user": {
            "displayName": "Özer ÇELİK",
            "photoUrl": "//lh5.googleusercontent.com/-zXWHLydZydg/AAAAAAAAAAI/AAAAAAAACUE/Vk-d5hrZI64/s50-c-k-no/photo.jpg",
            "userId": "109393400238666254492"
          }
        }
      },
      "cell_type": "code",
      "source": [
        "demet_ornek=(13,23,33)\n",
        "print(demet_ornek)"
      ],
      "execution_count": 2,
      "outputs": [
        {
          "output_type": "stream",
          "text": [
            "(13, 23, 33)\n"
          ],
          "name": "stdout"
        }
      ]
    },
    {
      "metadata": {
        "id": "30heV7A7dWCq",
        "colab_type": "code",
        "colab": {
          "autoexec": {
            "startup": false,
            "wait_interval": 0
          },
          "output_extras": [
            {
              "item_id": 1
            }
          ],
          "base_uri": "https://localhost:8080/",
          "height": 34
        },
        "outputId": "3496619b-a724-449c-d880-4c78269f145d",
        "executionInfo": {
          "status": "ok",
          "timestamp": 1519067176061,
          "user_tz": -120,
          "elapsed": 740,
          "user": {
            "displayName": "Özer ÇELİK",
            "photoUrl": "//lh5.googleusercontent.com/-zXWHLydZydg/AAAAAAAAAAI/AAAAAAAACUE/Vk-d5hrZI64/s50-c-k-no/photo.jpg",
            "userId": "109393400238666254492"
          }
        }
      },
      "cell_type": "code",
      "source": [
        "print(type(demet_ornek))"
      ],
      "execution_count": 3,
      "outputs": [
        {
          "output_type": "stream",
          "text": [
            "<type 'tuple'>\n"
          ],
          "name": "stdout"
        }
      ]
    },
    {
      "metadata": {
        "id": "DjFL-8_Cda4i",
        "colab_type": "code",
        "colab": {
          "autoexec": {
            "startup": false,
            "wait_interval": 0
          },
          "output_extras": [
            {
              "item_id": 1
            }
          ],
          "base_uri": "https://localhost:8080/",
          "height": 51
        },
        "outputId": "b0c708db-9c75-4464-9630-b22a649ab3c5",
        "executionInfo": {
          "status": "ok",
          "timestamp": 1519067379920,
          "user_tz": -120,
          "elapsed": 714,
          "user": {
            "displayName": "Özer ÇELİK",
            "photoUrl": "//lh5.googleusercontent.com/-zXWHLydZydg/AAAAAAAAAAI/AAAAAAAACUE/Vk-d5hrZI64/s50-c-k-no/photo.jpg",
            "userId": "109393400238666254492"
          }
        }
      },
      "cell_type": "code",
      "source": [
        "demet_ornek2=(1)  \n",
        "demet_ornek3=(1,)\n",
        "print(\"demet_ornek2\",demet_ornek2, type(demet_ornek2))\n",
        "print(\"demet_ornek3\",demet_ornek3, type(demet_ornek3))"
      ],
      "execution_count": 9,
      "outputs": [
        {
          "output_type": "stream",
          "text": [
            "('demet_ornek2', 1, <type 'int'>)\n",
            "('demet_ornek3', (1,), <type 'tuple'>)\n"
          ],
          "name": "stdout"
        }
      ]
    },
    {
      "metadata": {
        "id": "DQlbT6Q-eFMl",
        "colab_type": "code",
        "colab": {
          "autoexec": {
            "startup": false,
            "wait_interval": 0
          },
          "output_extras": [
            {
              "item_id": 1
            }
          ],
          "base_uri": "https://localhost:8080/",
          "height": 68
        },
        "outputId": "932eb7c3-8cf4-4692-893c-9cb0ed56c71c",
        "executionInfo": {
          "status": "ok",
          "timestamp": 1519067557206,
          "user_tz": -120,
          "elapsed": 786,
          "user": {
            "displayName": "Özer ÇELİK",
            "photoUrl": "//lh5.googleusercontent.com/-zXWHLydZydg/AAAAAAAAAAI/AAAAAAAACUE/Vk-d5hrZI64/s50-c-k-no/photo.jpg",
            "userId": "109393400238666254492"
          }
        }
      },
      "cell_type": "code",
      "source": [
        "demet_ornek=(1,3,5,7,9,11)\n",
        "print(demet_ornek[-1])\n",
        "print(demet_ornek[0])\n",
        "print(demet_ornek[1:5])"
      ],
      "execution_count": 13,
      "outputs": [
        {
          "output_type": "stream",
          "text": [
            "11\n",
            "1\n",
            "(3, 5, 7, 9)\n"
          ],
          "name": "stdout"
        }
      ]
    },
    {
      "metadata": {
        "id": "16aieYU0fHEh",
        "colab_type": "text"
      },
      "cell_type": "markdown",
      "source": [
        "***NOT**\n",
        "* **count() : **Method içerisinde verilen değerin Demet içerisinde kaç defa geçtiğini döndürür\n",
        "* **index() :** Method içerisinde verilen değerin Demetin kaçıncı indexte olduğunu döndürür"
      ]
    },
    {
      "metadata": {
        "id": "nAkjUpLde3wQ",
        "colab_type": "code",
        "colab": {
          "autoexec": {
            "startup": false,
            "wait_interval": 0
          },
          "output_extras": [
            {
              "item_id": 1
            }
          ],
          "base_uri": "https://localhost:8080/",
          "height": 34
        },
        "outputId": "db543794-e213-48b9-fc95-520bb482e25f",
        "executionInfo": {
          "status": "ok",
          "timestamp": 1519067794679,
          "user_tz": -120,
          "elapsed": 711,
          "user": {
            "displayName": "Özer ÇELİK",
            "photoUrl": "//lh5.googleusercontent.com/-zXWHLydZydg/AAAAAAAAAAI/AAAAAAAACUE/Vk-d5hrZI64/s50-c-k-no/photo.jpg",
            "userId": "109393400238666254492"
          }
        }
      },
      "cell_type": "code",
      "source": [
        "demet_ornek2=(1,2,3,2,3,2,3,4)\n",
        "demet_ornek2.count(3)\n"
      ],
      "execution_count": 18,
      "outputs": [
        {
          "output_type": "execute_result",
          "data": {
            "text/plain": [
              "3"
            ]
          },
          "metadata": {
            "tags": []
          },
          "execution_count": 18
        }
      ]
    },
    {
      "metadata": {
        "id": "WOfoqSstfxEb",
        "colab_type": "code",
        "colab": {
          "autoexec": {
            "startup": false,
            "wait_interval": 0
          },
          "output_extras": [
            {
              "item_id": 1
            }
          ],
          "base_uri": "https://localhost:8080/",
          "height": 34
        },
        "outputId": "39f2b33d-5ab3-4144-e859-5471adbee5c5",
        "executionInfo": {
          "status": "ok",
          "timestamp": 1519067817812,
          "user_tz": -120,
          "elapsed": 740,
          "user": {
            "displayName": "Özer ÇELİK",
            "photoUrl": "//lh5.googleusercontent.com/-zXWHLydZydg/AAAAAAAAAAI/AAAAAAAACUE/Vk-d5hrZI64/s50-c-k-no/photo.jpg",
            "userId": "109393400238666254492"
          }
        }
      },
      "cell_type": "code",
      "source": [
        "demet_ornek2.index(4)"
      ],
      "execution_count": 22,
      "outputs": [
        {
          "output_type": "execute_result",
          "data": {
            "text/plain": [
              "7"
            ]
          },
          "metadata": {
            "tags": []
          },
          "execution_count": 22
        }
      ]
    },
    {
      "metadata": {
        "id": "HhZ9IQ95gAQI",
        "colab_type": "text"
      },
      "cell_type": "markdown",
      "source": [
        "***NOT**\n",
        "\n",
        "*   Demetlere yeni eleman **eklenemez**\n",
        "*   Demetlerden eleman **çıkartılamaz**\n",
        "* Demetler program başında tanımlanır ve program içerisinde eleman ekleme/çıkart/düzenleme yapılamaz\n",
        "\n",
        "\n"
      ]
    },
    {
      "metadata": {
        "id": "Vd6JL6RhgWJa",
        "colab_type": "code",
        "colab": {
          "autoexec": {
            "startup": false,
            "wait_interval": 0
          },
          "output_extras": [
            {
              "item_id": 1
            }
          ],
          "base_uri": "https://localhost:8080/",
          "height": 164
        },
        "outputId": "c9e35638-2f9d-4895-ebc1-a56ebd9376a0",
        "executionInfo": {
          "status": "error",
          "timestamp": 1519068011375,
          "user_tz": -120,
          "elapsed": 925,
          "user": {
            "displayName": "Özer ÇELİK",
            "photoUrl": "//lh5.googleusercontent.com/-zXWHLydZydg/AAAAAAAAAAI/AAAAAAAACUE/Vk-d5hrZI64/s50-c-k-no/photo.jpg",
            "userId": "109393400238666254492"
          }
        }
      },
      "cell_type": "code",
      "source": [
        "demet_ornek2[1]=23"
      ],
      "execution_count": 23,
      "outputs": [
        {
          "output_type": "error",
          "ename": "TypeError",
          "evalue": "ignored",
          "traceback": [
            "\u001b[0;31m\u001b[0m",
            "\u001b[0;31mTypeError\u001b[0mTraceback (most recent call last)",
            "\u001b[0;32m<ipython-input-23-045ca60c137f>\u001b[0m in \u001b[0;36m<module>\u001b[0;34m()\u001b[0m\n\u001b[0;32m----> 1\u001b[0;31m \u001b[0mdemet_ornek2\u001b[0m\u001b[0;34m[\u001b[0m\u001b[0;36m1\u001b[0m\u001b[0;34m]\u001b[0m\u001b[0;34m=\u001b[0m\u001b[0;36m23\u001b[0m\u001b[0;34m\u001b[0m\u001b[0m\n\u001b[0m",
            "\u001b[0;31mTypeError\u001b[0m: 'tuple' object does not support item assignment"
          ]
        }
      ]
    },
    {
      "metadata": {
        "id": "QEBx1Xb_ppnL",
        "colab_type": "text"
      },
      "cell_type": "markdown",
      "source": [
        "# Sözlük Veri Tipleri - Dictionary\n",
        "\n",
        "Sözlük(Dictionary) veri tipi kullanımı liste ve demet kullanımdan farklıdır. Sözlük veri tipinde **Anahtar(Key)** ve o anahtarın tuttuğu **Değer(Value)** vardır\n",
        "\n",
        "Sözlük Kullanım Şekli:\n",
        "\n",
        "sozluk_ornek={\"sayi1\":1,\"sayi2\":23,\"sayi3\":33}\n",
        "\n",
        "* Sözlük tanımlamada **{  }** kullanılır, **Anahtar** string olarak **\" \"** kullanılarak yazılır değer kısmı **:** karşısında tipine göre **Değer** yazılır."
      ]
    },
    {
      "metadata": {
        "id": "4OWUhdIkj8PI",
        "colab_type": "code",
        "colab": {
          "autoexec": {
            "startup": false,
            "wait_interval": 0
          },
          "output_extras": [
            {
              "item_id": 1
            }
          ],
          "base_uri": "https://localhost:8080/",
          "height": 34
        },
        "outputId": "1d2797c3-d9ea-4e9b-d887-471fbfc436c4",
        "executionInfo": {
          "status": "ok",
          "timestamp": 1519068936050,
          "user_tz": -120,
          "elapsed": 739,
          "user": {
            "displayName": "Özer ÇELİK",
            "photoUrl": "//lh5.googleusercontent.com/-zXWHLydZydg/AAAAAAAAAAI/AAAAAAAACUE/Vk-d5hrZI64/s50-c-k-no/photo.jpg",
            "userId": "109393400238666254492"
          }
        }
      },
      "cell_type": "code",
      "source": [
        "sozluk_ornek={\"sayi1\":1,\"sayi2\":23,\"sayi3\":33}\n",
        "sozluk_ornek"
      ],
      "execution_count": 24,
      "outputs": [
        {
          "output_type": "execute_result",
          "data": {
            "text/plain": [
              "{'sayi1': 1, 'sayi2': 23, 'sayi3': 33}"
            ]
          },
          "metadata": {
            "tags": []
          },
          "execution_count": 24
        }
      ]
    },
    {
      "metadata": {
        "id": "tekIGz-UjsX8",
        "colab_type": "code",
        "colab": {
          "autoexec": {
            "startup": false,
            "wait_interval": 0
          },
          "output_extras": [
            {
              "item_id": 1
            }
          ],
          "base_uri": "https://localhost:8080/",
          "height": 34
        },
        "outputId": "9d09e2d4-1e42-430d-fc10-4bfd0b7a3453",
        "executionInfo": {
          "status": "ok",
          "timestamp": 1519068993568,
          "user_tz": -120,
          "elapsed": 909,
          "user": {
            "displayName": "Özer ÇELİK",
            "photoUrl": "//lh5.googleusercontent.com/-zXWHLydZydg/AAAAAAAAAAI/AAAAAAAACUE/Vk-d5hrZI64/s50-c-k-no/photo.jpg",
            "userId": "109393400238666254492"
          }
        }
      },
      "cell_type": "code",
      "source": [
        "sozluk_ornek[\"sayi2\"]"
      ],
      "execution_count": 27,
      "outputs": [
        {
          "output_type": "execute_result",
          "data": {
            "text/plain": [
              "23"
            ]
          },
          "metadata": {
            "tags": []
          },
          "execution_count": 27
        }
      ]
    },
    {
      "metadata": {
        "id": "5NvwfRM-kmqN",
        "colab_type": "code",
        "colab": {
          "autoexec": {
            "startup": false,
            "wait_interval": 0
          },
          "output_extras": [
            {
              "item_id": 1
            }
          ],
          "base_uri": "https://localhost:8080/",
          "height": 34
        },
        "outputId": "fe1d4381-fa51-4420-d220-6efb0420b3fc",
        "executionInfo": {
          "status": "ok",
          "timestamp": 1519069086433,
          "user_tz": -120,
          "elapsed": 720,
          "user": {
            "displayName": "Özer ÇELİK",
            "photoUrl": "//lh5.googleusercontent.com/-zXWHLydZydg/AAAAAAAAAAI/AAAAAAAACUE/Vk-d5hrZI64/s50-c-k-no/photo.jpg",
            "userId": "109393400238666254492"
          }
        }
      },
      "cell_type": "code",
      "source": [
        "sozluk_ornek[\"sayi1\"]=13\n",
        "sozluk_ornek"
      ],
      "execution_count": 28,
      "outputs": [
        {
          "output_type": "execute_result",
          "data": {
            "text/plain": [
              "{'sayi1': 13, 'sayi2': 23, 'sayi3': 33}"
            ]
          },
          "metadata": {
            "tags": []
          },
          "execution_count": 28
        }
      ]
    },
    {
      "metadata": {
        "id": "J85EUfYxktNM",
        "colab_type": "code",
        "colab": {
          "autoexec": {
            "startup": false,
            "wait_interval": 0
          },
          "output_extras": [
            {
              "item_id": 1
            }
          ],
          "base_uri": "https://localhost:8080/",
          "height": 34
        },
        "outputId": "04e28880-b029-41ad-cdae-d826858cbe87",
        "executionInfo": {
          "status": "ok",
          "timestamp": 1519069119408,
          "user_tz": -120,
          "elapsed": 744,
          "user": {
            "displayName": "Özer ÇELİK",
            "photoUrl": "//lh5.googleusercontent.com/-zXWHLydZydg/AAAAAAAAAAI/AAAAAAAACUE/Vk-d5hrZI64/s50-c-k-no/photo.jpg",
            "userId": "109393400238666254492"
          }
        }
      },
      "cell_type": "code",
      "source": [
        "sozluk_ornek[\"sayi5\"]=55\n",
        "sozluk_ornek"
      ],
      "execution_count": 29,
      "outputs": [
        {
          "output_type": "execute_result",
          "data": {
            "text/plain": [
              "{'sayi1': 13, 'sayi2': 23, 'sayi3': 33, 'sayi5': 55}"
            ]
          },
          "metadata": {
            "tags": []
          },
          "execution_count": 29
        }
      ]
    },
    {
      "metadata": {
        "id": "rHjXeok9k2L9",
        "colab_type": "code",
        "colab": {
          "autoexec": {
            "startup": false,
            "wait_interval": 0
          },
          "output_extras": [
            {
              "item_id": 1
            }
          ],
          "base_uri": "https://localhost:8080/",
          "height": 34
        },
        "outputId": "e7d53543-3395-4f2d-be06-27a528a80748",
        "executionInfo": {
          "status": "ok",
          "timestamp": 1519069160499,
          "user_tz": -120,
          "elapsed": 709,
          "user": {
            "displayName": "Özer ÇELİK",
            "photoUrl": "//lh5.googleusercontent.com/-zXWHLydZydg/AAAAAAAAAAI/AAAAAAAACUE/Vk-d5hrZI64/s50-c-k-no/photo.jpg",
            "userId": "109393400238666254492"
          }
        }
      },
      "cell_type": "code",
      "source": [
        "sozluk_ornek[\"asayi4\"]=44\n",
        "sozluk_ornek"
      ],
      "execution_count": 31,
      "outputs": [
        {
          "output_type": "execute_result",
          "data": {
            "text/plain": [
              "{'asayi4': 44, 'sayi1': 13, 'sayi2': 23, 'sayi3': 33, 'sayi5': 55}"
            ]
          },
          "metadata": {
            "tags": []
          },
          "execution_count": 31
        }
      ]
    },
    {
      "metadata": {
        "id": "pMyX-HLbmxkA",
        "colab_type": "code",
        "colab": {
          "autoexec": {
            "startup": false,
            "wait_interval": 0
          },
          "output_extras": [
            {
              "item_id": 1
            }
          ],
          "base_uri": "https://localhost:8080/",
          "height": 34
        },
        "outputId": "4bf59dd8-96f0-4557-9ae8-76b348be063f",
        "executionInfo": {
          "status": "ok",
          "timestamp": 1519069724263,
          "user_tz": -120,
          "elapsed": 695,
          "user": {
            "displayName": "Özer ÇELİK",
            "photoUrl": "//lh5.googleusercontent.com/-zXWHLydZydg/AAAAAAAAAAI/AAAAAAAACUE/Vk-d5hrZI64/s50-c-k-no/photo.jpg",
            "userId": "109393400238666254492"
          }
        }
      },
      "cell_type": "code",
      "source": [
        "sozluk_ornek[\"sayi1\"]=sozluk_ornek[\"sayi2\"]+sozluk_ornek[\"sayi3\"]\n",
        "sozluk_ornek"
      ],
      "execution_count": 36,
      "outputs": [
        {
          "output_type": "execute_result",
          "data": {
            "text/plain": [
              "{'asayi4': 44, 'sayi1': 56, 'sayi2': 23, 'sayi3': 33, 'sayi5': 55}"
            ]
          },
          "metadata": {
            "tags": []
          },
          "execution_count": 36
        }
      ]
    },
    {
      "metadata": {
        "id": "QM7pEqXvlDKB",
        "colab_type": "text"
      },
      "cell_type": "markdown",
      "source": [
        "**NOT**\n",
        "\n",
        "\n",
        "\n",
        "*   Sözlük türündeki değer ulaşmak için **sozluk_adi[Anahtar]** şeklinde ulaşılır\n",
        "*   Sözlük elemanları **sozluk[Anahtar]** ismi ile erişilebilir ve ekleme,düzenleme yapılabilir\n",
        "* Sözlüğe eklenen yeni eleman listelerdeki gibi sıraya göre eklenmez, anahtar kelimenin göre küçükten büyüğe doğru eklenir.\n",
        "\n"
      ]
    },
    {
      "metadata": {
        "id": "Ig57RvjSl53j",
        "colab_type": "code",
        "colab": {
          "autoexec": {
            "startup": false,
            "wait_interval": 0
          },
          "output_extras": [
            {
              "item_id": 1
            }
          ],
          "base_uri": "https://localhost:8080/",
          "height": 51
        },
        "outputId": "6b42c0a9-c777-4713-fd8d-80fea8ad4460",
        "executionInfo": {
          "status": "ok",
          "timestamp": 1519069598814,
          "user_tz": -120,
          "elapsed": 772,
          "user": {
            "displayName": "Özer ÇELİK",
            "photoUrl": "//lh5.googleusercontent.com/-zXWHLydZydg/AAAAAAAAAAI/AAAAAAAACUE/Vk-d5hrZI64/s50-c-k-no/photo.jpg",
            "userId": "109393400238666254492"
          }
        }
      },
      "cell_type": "code",
      "source": [
        "sozluk_yeni={}\n",
        "print(sozluk_yeni)\n",
        "sozluk_bos=dict()\n",
        "print(sozluk_bos)"
      ],
      "execution_count": 33,
      "outputs": [
        {
          "output_type": "stream",
          "text": [
            "{}\n",
            "{}\n"
          ],
          "name": "stdout"
        }
      ]
    },
    {
      "metadata": {
        "id": "FRgbUTNpnkC4",
        "colab_type": "text"
      },
      "cell_type": "markdown",
      "source": [
        "**NOT**\n",
        "\n",
        "\n",
        "*   sozluk_ornek**.items()** : Sözlük anahtar ve değerleri listeda demet türünde döndürür\n",
        "*   sozluk_ornek**.values()** : Sözlük değerlerini liste olarak döndürür\n",
        "*   sozluk_ornek**.keys()** : Sözlük anahtarları liste olarak döndürür\n",
        "\n",
        "\n"
      ]
    },
    {
      "metadata": {
        "id": "ydUF3jPHpu0d",
        "colab_type": "code",
        "colab": {
          "autoexec": {
            "startup": false,
            "wait_interval": 0
          },
          "output_extras": [
            {
              "item_id": 1
            }
          ],
          "base_uri": "https://localhost:8080/",
          "height": 34
        },
        "outputId": "d960d7da-d9c3-4393-e57c-e42c17d53294",
        "executionInfo": {
          "status": "ok",
          "timestamp": 1519070428062,
          "user_tz": -120,
          "elapsed": 693,
          "user": {
            "displayName": "Özer ÇELİK",
            "photoUrl": "//lh5.googleusercontent.com/-zXWHLydZydg/AAAAAAAAAAI/AAAAAAAACUE/Vk-d5hrZI64/s50-c-k-no/photo.jpg",
            "userId": "109393400238666254492"
          }
        }
      },
      "cell_type": "code",
      "source": [
        "sozluk_ornek.items()"
      ],
      "execution_count": 37,
      "outputs": [
        {
          "output_type": "execute_result",
          "data": {
            "text/plain": [
              "[('sayi3', 33), ('sayi2', 23), ('sayi1', 56), ('sayi5', 55), ('asayi4', 44)]"
            ]
          },
          "metadata": {
            "tags": []
          },
          "execution_count": 37
        }
      ]
    },
    {
      "metadata": {
        "id": "hR-2g-HUp0W_",
        "colab_type": "code",
        "colab": {
          "autoexec": {
            "startup": false,
            "wait_interval": 0
          },
          "output_extras": [
            {
              "item_id": 1
            }
          ],
          "base_uri": "https://localhost:8080/",
          "height": 34
        },
        "outputId": "d9bac77e-9b04-48b9-f8ad-a6d0d260fcda",
        "executionInfo": {
          "status": "ok",
          "timestamp": 1519070444620,
          "user_tz": -120,
          "elapsed": 718,
          "user": {
            "displayName": "Özer ÇELİK",
            "photoUrl": "//lh5.googleusercontent.com/-zXWHLydZydg/AAAAAAAAAAI/AAAAAAAACUE/Vk-d5hrZI64/s50-c-k-no/photo.jpg",
            "userId": "109393400238666254492"
          }
        }
      },
      "cell_type": "code",
      "source": [
        "sozluk_ornek.keys()"
      ],
      "execution_count": 38,
      "outputs": [
        {
          "output_type": "execute_result",
          "data": {
            "text/plain": [
              "['sayi3', 'sayi2', 'sayi1', 'sayi5', 'asayi4']"
            ]
          },
          "metadata": {
            "tags": []
          },
          "execution_count": 38
        }
      ]
    },
    {
      "metadata": {
        "id": "jecLDMn-p39m",
        "colab_type": "code",
        "colab": {
          "autoexec": {
            "startup": false,
            "wait_interval": 0
          },
          "output_extras": [
            {
              "item_id": 1
            }
          ],
          "base_uri": "https://localhost:8080/",
          "height": 34
        },
        "outputId": "b90b0183-1c7a-4538-95a4-2b50cec284a9",
        "executionInfo": {
          "status": "ok",
          "timestamp": 1519070458643,
          "user_tz": -120,
          "elapsed": 848,
          "user": {
            "displayName": "Özer ÇELİK",
            "photoUrl": "//lh5.googleusercontent.com/-zXWHLydZydg/AAAAAAAAAAI/AAAAAAAACUE/Vk-d5hrZI64/s50-c-k-no/photo.jpg",
            "userId": "109393400238666254492"
          }
        }
      },
      "cell_type": "code",
      "source": [
        "sozluk_ornek.values()"
      ],
      "execution_count": 39,
      "outputs": [
        {
          "output_type": "execute_result",
          "data": {
            "text/plain": [
              "[33, 23, 56, 55, 44]"
            ]
          },
          "metadata": {
            "tags": []
          },
          "execution_count": 39
        }
      ]
    },
    {
      "metadata": {
        "id": "xtgTXtr3p9F8",
        "colab_type": "code",
        "colab": {
          "autoexec": {
            "startup": false,
            "wait_interval": 0
          },
          "output_extras": [
            {
              "item_id": 1
            }
          ],
          "base_uri": "https://localhost:8080/",
          "height": 34
        },
        "outputId": "f4ff5da1-159b-4c4c-edea-2b46bb47b292",
        "executionInfo": {
          "status": "ok",
          "timestamp": 1519070620249,
          "user_tz": -120,
          "elapsed": 765,
          "user": {
            "displayName": "Özer ÇELİK",
            "photoUrl": "//lh5.googleusercontent.com/-zXWHLydZydg/AAAAAAAAAAI/AAAAAAAACUE/Vk-d5hrZI64/s50-c-k-no/photo.jpg",
            "userId": "109393400238666254492"
          }
        }
      },
      "cell_type": "code",
      "source": [
        "sozluk_icidizi={\"sayilar1\":[[1,2,3],[4,5,6]],\"sayilar2\":[1,2,3,4,5]}\n",
        "sozluk_icidizi"
      ],
      "execution_count": 40,
      "outputs": [
        {
          "output_type": "execute_result",
          "data": {
            "text/plain": [
              "{'sayilar1': [[1, 2, 3], [4, 5, 6]], 'sayilar2': [1, 2, 3, 4, 5]}"
            ]
          },
          "metadata": {
            "tags": []
          },
          "execution_count": 40
        }
      ]
    },
    {
      "metadata": {
        "id": "zbOY2CE0qj40",
        "colab_type": "code",
        "colab": {
          "autoexec": {
            "startup": false,
            "wait_interval": 0
          },
          "output_extras": [
            {
              "item_id": 1
            }
          ],
          "base_uri": "https://localhost:8080/",
          "height": 34
        },
        "outputId": "c4246b6f-870d-45d4-954f-b09625b8ad13",
        "executionInfo": {
          "status": "ok",
          "timestamp": 1519070644301,
          "user_tz": -120,
          "elapsed": 727,
          "user": {
            "displayName": "Özer ÇELİK",
            "photoUrl": "//lh5.googleusercontent.com/-zXWHLydZydg/AAAAAAAAAAI/AAAAAAAACUE/Vk-d5hrZI64/s50-c-k-no/photo.jpg",
            "userId": "109393400238666254492"
          }
        }
      },
      "cell_type": "code",
      "source": [
        "sozluk_icidizi[\"sayilar1\"]"
      ],
      "execution_count": 41,
      "outputs": [
        {
          "output_type": "execute_result",
          "data": {
            "text/plain": [
              "[[1, 2, 3], [4, 5, 6]]"
            ]
          },
          "metadata": {
            "tags": []
          },
          "execution_count": 41
        }
      ]
    },
    {
      "metadata": {
        "id": "Woeael75qo_F",
        "colab_type": "code",
        "colab": {
          "autoexec": {
            "startup": false,
            "wait_interval": 0
          },
          "output_extras": [
            {
              "item_id": 1
            }
          ],
          "base_uri": "https://localhost:8080/",
          "height": 34
        },
        "outputId": "61fe5727-273d-4336-ee73-629854ea75ec",
        "executionInfo": {
          "status": "ok",
          "timestamp": 1519070665072,
          "user_tz": -120,
          "elapsed": 736,
          "user": {
            "displayName": "Özer ÇELİK",
            "photoUrl": "//lh5.googleusercontent.com/-zXWHLydZydg/AAAAAAAAAAI/AAAAAAAACUE/Vk-d5hrZI64/s50-c-k-no/photo.jpg",
            "userId": "109393400238666254492"
          }
        }
      },
      "cell_type": "code",
      "source": [
        "sozluk_icidizi[\"sayilar1\"][0]"
      ],
      "execution_count": 42,
      "outputs": [
        {
          "output_type": "execute_result",
          "data": {
            "text/plain": [
              "[1, 2, 3]"
            ]
          },
          "metadata": {
            "tags": []
          },
          "execution_count": 42
        }
      ]
    },
    {
      "metadata": {
        "id": "HdZZtK0GrAmV",
        "colab_type": "code",
        "colab": {
          "autoexec": {
            "startup": false,
            "wait_interval": 0
          },
          "output_extras": [
            {
              "item_id": 1
            }
          ],
          "base_uri": "https://localhost:8080/",
          "height": 51
        },
        "outputId": "694bb24d-c2e3-4ebd-9026-855b6278133b",
        "executionInfo": {
          "status": "ok",
          "timestamp": 1519070914355,
          "user_tz": -120,
          "elapsed": 767,
          "user": {
            "displayName": "Özer ÇELİK",
            "photoUrl": "//lh5.googleusercontent.com/-zXWHLydZydg/AAAAAAAAAAI/AAAAAAAACUE/Vk-d5hrZI64/s50-c-k-no/photo.jpg",
            "userId": "109393400238666254492"
          }
        }
      },
      "cell_type": "code",
      "source": [
        "icice_sozluk={\"kullanici_bilgi\":{\"isim\":\"ali\",\"soyisim\":\"demir\",\"yas\":23},\"sepet\":{\"urun1\":\"Gomlek\",\"urun2\":\"Ceket\"}}\n",
        "icice_sozluk"
      ],
      "execution_count": 44,
      "outputs": [
        {
          "output_type": "execute_result",
          "data": {
            "text/plain": [
              "{'kullanici_bilgi': {'isim': 'ali', 'soyisim': 'demir', 'yas': 23},\n",
              " 'sepet': {'urun1': 'Gomlek', 'urun2': 'Ceket'}}"
            ]
          },
          "metadata": {
            "tags": []
          },
          "execution_count": 44
        }
      ]
    },
    {
      "metadata": {
        "id": "o3OA1MBRrrp7",
        "colab_type": "code",
        "colab": {
          "autoexec": {
            "startup": false,
            "wait_interval": 0
          },
          "output_extras": [
            {
              "item_id": 1
            }
          ],
          "base_uri": "https://localhost:8080/",
          "height": 34
        },
        "outputId": "6e8c6b45-c85f-47bd-82c4-3a796398924b",
        "executionInfo": {
          "status": "ok",
          "timestamp": 1519070942842,
          "user_tz": -120,
          "elapsed": 694,
          "user": {
            "displayName": "Özer ÇELİK",
            "photoUrl": "//lh5.googleusercontent.com/-zXWHLydZydg/AAAAAAAAAAI/AAAAAAAACUE/Vk-d5hrZI64/s50-c-k-no/photo.jpg",
            "userId": "109393400238666254492"
          }
        }
      },
      "cell_type": "code",
      "source": [
        "icice_sozluk[\"kullanici_bilgi\"]"
      ],
      "execution_count": 45,
      "outputs": [
        {
          "output_type": "execute_result",
          "data": {
            "text/plain": [
              "{'isim': 'ali', 'soyisim': 'demir', 'yas': 23}"
            ]
          },
          "metadata": {
            "tags": []
          },
          "execution_count": 45
        }
      ]
    },
    {
      "metadata": {
        "id": "0lMsK0-Vryow",
        "colab_type": "code",
        "colab": {
          "autoexec": {
            "startup": false,
            "wait_interval": 0
          },
          "output_extras": [
            {
              "item_id": 1
            }
          ],
          "base_uri": "https://localhost:8080/",
          "height": 34
        },
        "outputId": "8b11741b-3547-4c1c-e991-12216d590085",
        "executionInfo": {
          "status": "ok",
          "timestamp": 1519071029369,
          "user_tz": -120,
          "elapsed": 886,
          "user": {
            "displayName": "Özer ÇELİK",
            "photoUrl": "//lh5.googleusercontent.com/-zXWHLydZydg/AAAAAAAAAAI/AAAAAAAACUE/Vk-d5hrZI64/s50-c-k-no/photo.jpg",
            "userId": "109393400238666254492"
          }
        }
      },
      "cell_type": "code",
      "source": [
        "icice_sozluk[\"sepet\"][\"urun1\"]"
      ],
      "execution_count": 48,
      "outputs": [
        {
          "output_type": "execute_result",
          "data": {
            "text/plain": [
              "'Gomlek'"
            ]
          },
          "metadata": {
            "tags": []
          },
          "execution_count": 48
        }
      ]
    },
    {
      "metadata": {
        "id": "HtzaU_XJTab5",
        "colab_type": "text"
      },
      "cell_type": "markdown",
      "source": [
        "# Liste Veri Tipi - List\n",
        "\n",
        "Listeler birden fazla veriyi tek değişken içerisinde sıralı tutmaya yarar.\n",
        "\n",
        "***Pythonda farklı veritipinden elemanı liste saklanabilir**"
      ]
    },
    {
      "metadata": {
        "id": "GBVgfclItjav",
        "colab_type": "code",
        "colab": {
          "autoexec": {
            "startup": false,
            "wait_interval": 0
          },
          "output_extras": [
            {
              "item_id": 1
            }
          ],
          "base_uri": "https://localhost:8080/",
          "height": 51
        },
        "outputId": "a239af14-1211-41d0-aee3-baf2d41b9305",
        "executionInfo": {
          "status": "ok",
          "timestamp": 1519071547283,
          "user_tz": -120,
          "elapsed": 695,
          "user": {
            "displayName": "Özer ÇELİK",
            "photoUrl": "//lh5.googleusercontent.com/-zXWHLydZydg/AAAAAAAAAAI/AAAAAAAACUE/Vk-d5hrZI64/s50-c-k-no/photo.jpg",
            "userId": "109393400238666254492"
          }
        }
      },
      "cell_type": "code",
      "source": [
        "liste_ornek=[]\n",
        "print(liste_ornek)\n",
        "liste_bos=list()\n",
        "print(liste_bos)"
      ],
      "execution_count": 53,
      "outputs": [
        {
          "output_type": "stream",
          "text": [
            "[]\n",
            "[]\n"
          ],
          "name": "stdout"
        }
      ]
    },
    {
      "metadata": {
        "id": "HWniG_OduGbv",
        "colab_type": "code",
        "colab": {
          "autoexec": {
            "startup": false,
            "wait_interval": 0
          },
          "output_extras": [
            {
              "item_id": 1
            }
          ],
          "base_uri": "https://localhost:8080/",
          "height": 34
        },
        "outputId": "ecc6d15a-7ec4-43f5-fb2a-c76c5420ddc6",
        "executionInfo": {
          "status": "ok",
          "timestamp": 1519071726299,
          "user_tz": -120,
          "elapsed": 898,
          "user": {
            "displayName": "Özer ÇELİK",
            "photoUrl": "//lh5.googleusercontent.com/-zXWHLydZydg/AAAAAAAAAAI/AAAAAAAACUE/Vk-d5hrZI64/s50-c-k-no/photo.jpg",
            "userId": "109393400238666254492"
          }
        }
      },
      "cell_type": "code",
      "source": [
        "liste_ornek=[1,23,33,\"isim\",2.3,True]\n",
        "liste_ornek"
      ],
      "execution_count": 55,
      "outputs": [
        {
          "output_type": "execute_result",
          "data": {
            "text/plain": [
              "[1, 23, 33, 'isim', 2.3, True]"
            ]
          },
          "metadata": {
            "tags": []
          },
          "execution_count": 55
        }
      ]
    },
    {
      "metadata": {
        "id": "TpS7sG2cu7iZ",
        "colab_type": "code",
        "colab": {
          "autoexec": {
            "startup": false,
            "wait_interval": 0
          },
          "output_extras": [
            {
              "item_id": 1
            }
          ],
          "base_uri": "https://localhost:8080/",
          "height": 34
        },
        "outputId": "9a444259-7f5f-488d-8905-97a6859bd443",
        "executionInfo": {
          "status": "ok",
          "timestamp": 1519071822118,
          "user_tz": -120,
          "elapsed": 717,
          "user": {
            "displayName": "Özer ÇELİK",
            "photoUrl": "//lh5.googleusercontent.com/-zXWHLydZydg/AAAAAAAAAAI/AAAAAAAACUE/Vk-d5hrZI64/s50-c-k-no/photo.jpg",
            "userId": "109393400238666254492"
          }
        }
      },
      "cell_type": "code",
      "source": [
        "print(len(liste_ornek))"
      ],
      "execution_count": 58,
      "outputs": [
        {
          "output_type": "stream",
          "text": [
            "6\n"
          ],
          "name": "stdout"
        }
      ]
    },
    {
      "metadata": {
        "id": "G_CEKbBtvJYm",
        "colab_type": "code",
        "colab": {
          "autoexec": {
            "startup": false,
            "wait_interval": 0
          },
          "output_extras": [
            {
              "item_id": 1
            }
          ],
          "base_uri": "https://localhost:8080/",
          "height": 34
        },
        "outputId": "d4a54751-62a5-4260-db9e-77c7bd94d251",
        "executionInfo": {
          "status": "ok",
          "timestamp": 1519071840179,
          "user_tz": -120,
          "elapsed": 831,
          "user": {
            "displayName": "Özer ÇELİK",
            "photoUrl": "//lh5.googleusercontent.com/-zXWHLydZydg/AAAAAAAAAAI/AAAAAAAACUE/Vk-d5hrZI64/s50-c-k-no/photo.jpg",
            "userId": "109393400238666254492"
          }
        }
      },
      "cell_type": "code",
      "source": [
        "liste_ornek[0]"
      ],
      "execution_count": 59,
      "outputs": [
        {
          "output_type": "execute_result",
          "data": {
            "text/plain": [
              "1"
            ]
          },
          "metadata": {
            "tags": []
          },
          "execution_count": 59
        }
      ]
    },
    {
      "metadata": {
        "id": "gTQtTjAavNL6",
        "colab_type": "code",
        "colab": {
          "autoexec": {
            "startup": false,
            "wait_interval": 0
          },
          "output_extras": [
            {
              "item_id": 1
            }
          ],
          "base_uri": "https://localhost:8080/",
          "height": 34
        },
        "outputId": "5624dccd-e31a-4e22-a98b-1b230205f45c",
        "executionInfo": {
          "status": "ok",
          "timestamp": 1519071851784,
          "user_tz": -120,
          "elapsed": 713,
          "user": {
            "displayName": "Özer ÇELİK",
            "photoUrl": "//lh5.googleusercontent.com/-zXWHLydZydg/AAAAAAAAAAI/AAAAAAAACUE/Vk-d5hrZI64/s50-c-k-no/photo.jpg",
            "userId": "109393400238666254492"
          }
        }
      },
      "cell_type": "code",
      "source": [
        "liste_ornek[-1]"
      ],
      "execution_count": 60,
      "outputs": [
        {
          "output_type": "execute_result",
          "data": {
            "text/plain": [
              "True"
            ]
          },
          "metadata": {
            "tags": []
          },
          "execution_count": 60
        }
      ]
    },
    {
      "metadata": {
        "id": "r69DSoGghhmk",
        "colab_type": "code",
        "colab": {
          "autoexec": {
            "startup": false,
            "wait_interval": 0
          }
        }
      },
      "cell_type": "code",
      "source": [
        ""
      ],
      "execution_count": 0,
      "outputs": []
    },
    {
      "metadata": {
        "id": "PLfvrx_0vT3T",
        "colab_type": "code",
        "colab": {
          "autoexec": {
            "startup": false,
            "wait_interval": 0
          },
          "output_extras": [
            {
              "item_id": 1
            }
          ],
          "base_uri": "https://localhost:8080/",
          "height": 34
        },
        "outputId": "69ac420c-68f7-4de2-96d7-966f8a4903db",
        "executionInfo": {
          "status": "ok",
          "timestamp": 1519071887537,
          "user_tz": -120,
          "elapsed": 724,
          "user": {
            "displayName": "Özer ÇELİK",
            "photoUrl": "//lh5.googleusercontent.com/-zXWHLydZydg/AAAAAAAAAAI/AAAAAAAACUE/Vk-d5hrZI64/s50-c-k-no/photo.jpg",
            "userId": "109393400238666254492"
          }
        }
      },
      "cell_type": "code",
      "source": [
        "liste_ornek[:3]"
      ],
      "execution_count": 61,
      "outputs": [
        {
          "output_type": "execute_result",
          "data": {
            "text/plain": [
              "[1, 23, 33]"
            ]
          },
          "metadata": {
            "tags": []
          },
          "execution_count": 61
        }
      ]
    },
    {
      "metadata": {
        "id": "d2Mt90SDvZUn",
        "colab_type": "code",
        "colab": {
          "autoexec": {
            "startup": false,
            "wait_interval": 0
          },
          "output_extras": [
            {
              "item_id": 1
            }
          ],
          "base_uri": "https://localhost:8080/",
          "height": 34
        },
        "outputId": "db9f5914-635f-4461-8a15-1a1d73952732",
        "executionInfo": {
          "status": "ok",
          "timestamp": 1519071978074,
          "user_tz": -120,
          "elapsed": 883,
          "user": {
            "displayName": "Özer ÇELİK",
            "photoUrl": "//lh5.googleusercontent.com/-zXWHLydZydg/AAAAAAAAAAI/AAAAAAAACUE/Vk-d5hrZI64/s50-c-k-no/photo.jpg",
            "userId": "109393400238666254492"
          }
        }
      },
      "cell_type": "code",
      "source": [
        "liste_ornek[1:5:2]\n",
        "#1.indexteki elemandan 5.elamana kadar(dahil deği) 2 atlarak "
      ],
      "execution_count": 63,
      "outputs": [
        {
          "output_type": "execute_result",
          "data": {
            "text/plain": [
              "[23, 'isim']"
            ]
          },
          "metadata": {
            "tags": []
          },
          "execution_count": 63
        }
      ]
    },
    {
      "metadata": {
        "id": "NAC3nyP7weeA",
        "colab_type": "code",
        "colab": {
          "autoexec": {
            "startup": false,
            "wait_interval": 0
          },
          "output_extras": [
            {
              "item_id": 1
            }
          ],
          "base_uri": "https://localhost:8080/",
          "height": 34
        },
        "outputId": "343cce20-7529-4668-d079-432809ffac43",
        "executionInfo": {
          "status": "ok",
          "timestamp": 1519072186501,
          "user_tz": -120,
          "elapsed": 882,
          "user": {
            "displayName": "Özer ÇELİK",
            "photoUrl": "//lh5.googleusercontent.com/-zXWHLydZydg/AAAAAAAAAAI/AAAAAAAACUE/Vk-d5hrZI64/s50-c-k-no/photo.jpg",
            "userId": "109393400238666254492"
          }
        }
      },
      "cell_type": "code",
      "source": [
        "liste_ornek[::-1]"
      ],
      "execution_count": 64,
      "outputs": [
        {
          "output_type": "execute_result",
          "data": {
            "text/plain": [
              "[True, 2.3, 'isim', 33, 23, 1]"
            ]
          },
          "metadata": {
            "tags": []
          },
          "execution_count": 64
        }
      ]
    },
    {
      "metadata": {
        "id": "3HEKrGUHw_bD",
        "colab_type": "text"
      },
      "cell_type": "markdown",
      "source": [
        "**NOT**\n",
        "\n",
        "*   Liste elemanları üzerine ekleme,kaldırma,düzeltme işlemleri yapılabilir\n",
        "*   Listeler toplama operatoru ile eklenebilir\n",
        "*   liste_ornek**.append()** : methodu ile listeye yeni eleman eklenebilir\n",
        "*   liste_ornek**.pop()** : methodu ile listeden elemen çıkatılabilir\n",
        "*   liste_ornek**.sort()** : methodu ile liste elemanları küçükten büyüğe doğru listelenir\n",
        "*   liste_ornek**.sort(reverse = True)** : methodu ile liste elemanları büyükten küçüğe doğru listelenir\n",
        "\n"
      ]
    },
    {
      "metadata": {
        "id": "b1oJJ0sDwjMN",
        "colab_type": "code",
        "colab": {
          "autoexec": {
            "startup": false,
            "wait_interval": 0
          },
          "output_extras": [
            {
              "item_id": 1
            }
          ],
          "base_uri": "https://localhost:8080/",
          "height": 34
        },
        "outputId": "dde0e495-fea3-45cd-98b1-c4006d627d55",
        "executionInfo": {
          "status": "ok",
          "timestamp": 1519072302222,
          "user_tz": -120,
          "elapsed": 684,
          "user": {
            "displayName": "Özer ÇELİK",
            "photoUrl": "//lh5.googleusercontent.com/-zXWHLydZydg/AAAAAAAAAAI/AAAAAAAACUE/Vk-d5hrZI64/s50-c-k-no/photo.jpg",
            "userId": "109393400238666254492"
          }
        }
      },
      "cell_type": "code",
      "source": [
        "liste1=[0,1,2,3]\n",
        "liste2=[4,5,6]\n",
        "liste3=liste1+liste2\n",
        "liste3"
      ],
      "execution_count": 65,
      "outputs": [
        {
          "output_type": "execute_result",
          "data": {
            "text/plain": [
              "[0, 1, 2, 3, 4, 5, 6]"
            ]
          },
          "metadata": {
            "tags": []
          },
          "execution_count": 65
        }
      ]
    },
    {
      "metadata": {
        "id": "96GeHq3uxXOW",
        "colab_type": "code",
        "colab": {
          "autoexec": {
            "startup": false,
            "wait_interval": 0
          },
          "output_extras": [
            {
              "item_id": 1
            }
          ],
          "base_uri": "https://localhost:8080/",
          "height": 34
        },
        "outputId": "ee1987a2-25fc-403b-ad78-3fffcfad83ae",
        "executionInfo": {
          "status": "ok",
          "timestamp": 1519072430069,
          "user_tz": -120,
          "elapsed": 713,
          "user": {
            "displayName": "Özer ÇELİK",
            "photoUrl": "//lh5.googleusercontent.com/-zXWHLydZydg/AAAAAAAAAAI/AAAAAAAACUE/Vk-d5hrZI64/s50-c-k-no/photo.jpg",
            "userId": "109393400238666254492"
          }
        }
      },
      "cell_type": "code",
      "source": [
        "liste3[0]=10\n",
        "liste3"
      ],
      "execution_count": 66,
      "outputs": [
        {
          "output_type": "execute_result",
          "data": {
            "text/plain": [
              "[10, 1, 2, 3, 4, 5, 6]"
            ]
          },
          "metadata": {
            "tags": []
          },
          "execution_count": 66
        }
      ]
    },
    {
      "metadata": {
        "id": "OZVSlDMaxekH",
        "colab_type": "code",
        "colab": {
          "autoexec": {
            "startup": false,
            "wait_interval": 0
          },
          "output_extras": [
            {
              "item_id": 1
            }
          ],
          "base_uri": "https://localhost:8080/",
          "height": 34
        },
        "outputId": "0b3d1e2d-ffa3-46ef-d930-3bd285298a0a",
        "executionInfo": {
          "status": "ok",
          "timestamp": 1519072468137,
          "user_tz": -120,
          "elapsed": 698,
          "user": {
            "displayName": "Özer ÇELİK",
            "photoUrl": "//lh5.googleusercontent.com/-zXWHLydZydg/AAAAAAAAAAI/AAAAAAAACUE/Vk-d5hrZI64/s50-c-k-no/photo.jpg",
            "userId": "109393400238666254492"
          }
        }
      },
      "cell_type": "code",
      "source": [
        "liste3[0:3]=11,12,13\n",
        "liste3"
      ],
      "execution_count": 67,
      "outputs": [
        {
          "output_type": "execute_result",
          "data": {
            "text/plain": [
              "[11, 12, 13, 3, 4, 5, 6]"
            ]
          },
          "metadata": {
            "tags": []
          },
          "execution_count": 67
        }
      ]
    },
    {
      "metadata": {
        "id": "UYqB_ogSyDNI",
        "colab_type": "code",
        "colab": {
          "autoexec": {
            "startup": false,
            "wait_interval": 0
          },
          "output_extras": [
            {
              "item_id": 1
            }
          ],
          "base_uri": "https://localhost:8080/",
          "height": 34
        },
        "outputId": "95a0f0d2-453f-4838-ca83-9d43d31d846f",
        "executionInfo": {
          "status": "ok",
          "timestamp": 1519072605518,
          "user_tz": -120,
          "elapsed": 719,
          "user": {
            "displayName": "Özer ÇELİK",
            "photoUrl": "//lh5.googleusercontent.com/-zXWHLydZydg/AAAAAAAAAAI/AAAAAAAACUE/Vk-d5hrZI64/s50-c-k-no/photo.jpg",
            "userId": "109393400238666254492"
          }
        }
      },
      "cell_type": "code",
      "source": [
        "liste3.append(100)\n",
        "liste3"
      ],
      "execution_count": 68,
      "outputs": [
        {
          "output_type": "execute_result",
          "data": {
            "text/plain": [
              "[11, 12, 13, 3, 4, 5, 6, 100]"
            ]
          },
          "metadata": {
            "tags": []
          },
          "execution_count": 68
        }
      ]
    },
    {
      "metadata": {
        "id": "0OrRc3J4yPgr",
        "colab_type": "code",
        "colab": {
          "autoexec": {
            "startup": false,
            "wait_interval": 0
          },
          "output_extras": [
            {
              "item_id": 1
            }
          ],
          "base_uri": "https://localhost:8080/",
          "height": 34
        },
        "outputId": "83e2f4a0-a4f3-4064-f4e9-324dbbb5ca1f",
        "executionInfo": {
          "status": "ok",
          "timestamp": 1519072677853,
          "user_tz": -120,
          "elapsed": 852,
          "user": {
            "displayName": "Özer ÇELİK",
            "photoUrl": "//lh5.googleusercontent.com/-zXWHLydZydg/AAAAAAAAAAI/AAAAAAAACUE/Vk-d5hrZI64/s50-c-k-no/photo.jpg",
            "userId": "109393400238666254492"
          }
        }
      },
      "cell_type": "code",
      "source": [
        "liste3.pop()\n",
        "liste3\n",
        "#pop() methodu içinde index bulunmuyorsa son eleman çıkartılır."
      ],
      "execution_count": 69,
      "outputs": [
        {
          "output_type": "execute_result",
          "data": {
            "text/plain": [
              "[11, 12, 13, 3, 4, 5, 6]"
            ]
          },
          "metadata": {
            "tags": []
          },
          "execution_count": 69
        }
      ]
    },
    {
      "metadata": {
        "id": "thzlz6xhyZ2j",
        "colab_type": "code",
        "colab": {
          "autoexec": {
            "startup": false,
            "wait_interval": 0
          },
          "output_extras": [
            {
              "item_id": 1
            }
          ],
          "base_uri": "https://localhost:8080/",
          "height": 34
        },
        "outputId": "62771fe4-6b73-4d1e-d8a6-5baaed757725",
        "executionInfo": {
          "status": "ok",
          "timestamp": 1519072702046,
          "user_tz": -120,
          "elapsed": 673,
          "user": {
            "displayName": "Özer ÇELİK",
            "photoUrl": "//lh5.googleusercontent.com/-zXWHLydZydg/AAAAAAAAAAI/AAAAAAAACUE/Vk-d5hrZI64/s50-c-k-no/photo.jpg",
            "userId": "109393400238666254492"
          }
        }
      },
      "cell_type": "code",
      "source": [
        "liste3.pop(1)\n",
        "liste3"
      ],
      "execution_count": 71,
      "outputs": [
        {
          "output_type": "execute_result",
          "data": {
            "text/plain": [
              "[11, 13, 3, 4, 5, 6]"
            ]
          },
          "metadata": {
            "tags": []
          },
          "execution_count": 71
        }
      ]
    },
    {
      "metadata": {
        "id": "HG5JTdn26Bm8",
        "colab_type": "code",
        "colab": {
          "autoexec": {
            "startup": false,
            "wait_interval": 0
          },
          "output_extras": [
            {
              "item_id": 1
            }
          ],
          "base_uri": "https://localhost:8080/",
          "height": 34
        },
        "outputId": "37570464-9f57-4a66-dbee-f9a358144551",
        "executionInfo": {
          "status": "ok",
          "timestamp": 1519074765035,
          "user_tz": -120,
          "elapsed": 689,
          "user": {
            "displayName": "Özer ÇELİK",
            "photoUrl": "//lh5.googleusercontent.com/-zXWHLydZydg/AAAAAAAAAAI/AAAAAAAACUE/Vk-d5hrZI64/s50-c-k-no/photo.jpg",
            "userId": "109393400238666254492"
          }
        }
      },
      "cell_type": "code",
      "source": [
        "yeni_liste=[\"ali\",\"emir\",\"zeynep\",\"ayse\"]\n",
        "yeni_liste.sort()\n",
        "yeni_liste"
      ],
      "execution_count": 75,
      "outputs": [
        {
          "output_type": "execute_result",
          "data": {
            "text/plain": [
              "['ali', 'ayse', 'emir', 'zeynep']"
            ]
          },
          "metadata": {
            "tags": []
          },
          "execution_count": 75
        }
      ]
    },
    {
      "metadata": {
        "id": "t5Qwl1yW6XQQ",
        "colab_type": "code",
        "colab": {
          "autoexec": {
            "startup": false,
            "wait_interval": 0
          },
          "output_extras": [
            {
              "item_id": 1
            }
          ],
          "base_uri": "https://localhost:8080/",
          "height": 34
        },
        "outputId": "8c21d6f6-3add-44a4-8652-5395a7c369b5",
        "executionInfo": {
          "status": "ok",
          "timestamp": 1519074790376,
          "user_tz": -120,
          "elapsed": 678,
          "user": {
            "displayName": "Özer ÇELİK",
            "photoUrl": "//lh5.googleusercontent.com/-zXWHLydZydg/AAAAAAAAAAI/AAAAAAAACUE/Vk-d5hrZI64/s50-c-k-no/photo.jpg",
            "userId": "109393400238666254492"
          }
        }
      },
      "cell_type": "code",
      "source": [
        "yeni_liste.sort(reverse = True)\n",
        "yeni_liste"
      ],
      "execution_count": 77,
      "outputs": [
        {
          "output_type": "execute_result",
          "data": {
            "text/plain": [
              "['zeynep', 'emir', 'ayse', 'ali']"
            ]
          },
          "metadata": {
            "tags": []
          },
          "execution_count": 77
        }
      ]
    },
    {
      "metadata": {
        "id": "jWakS6Xr0NJ3",
        "colab_type": "text"
      },
      "cell_type": "markdown",
      "source": [
        "# Uygulamalar"
      ]
    },
    {
      "metadata": {
        "id": "zGtOqPIVv7F0",
        "colab_type": "text"
      },
      "cell_type": "markdown",
      "source": [
        "**Örnek:1**\n",
        "Sözlük kullanarak klavyeden kimlik bilgilerinizi giriniz."
      ]
    },
    {
      "metadata": {
        "id": "KOfyGMw3oHJs",
        "colab_type": "text"
      },
      "cell_type": "markdown",
      "source": [
        "**Örnek 2:** Kullancidan bu bilgileri (isim:     Soy isim:          Dogum Tarihi:    Tel numurasi:) alip sonra bir satirda yazdiriniz?\n",
        "(teker teker listeye ekleyerek sonra liste elemenları yazıdırın, sonra listenin tüm elemenları siliniz ) \n"
      ]
    },
    {
      "metadata": {
        "id": "SeFHATLPo5ff",
        "colab_type": "text"
      },
      "cell_type": "markdown",
      "source": [
        "**Örnek:**  Diziyi sıralayan program yazınız [333, 1234.5, 1, 333, -1, 66.25]?"
      ]
    },
    {
      "metadata": {
        "id": "O5P8w6yvpvBf",
        "colab_type": "text"
      },
      "cell_type": "markdown",
      "source": [
        "**Örnek:** Kullancıların adı ve şifreleri bir sözlük içinde yazınız?"
      ]
    },
    {
      "metadata": {
        "id": "tsJoC78QwKA1",
        "colab_type": "code",
        "colab": {
          "autoexec": {
            "startup": false,
            "wait_interval": 0
          }
        }
      },
      "cell_type": "code",
      "source": [
        ""
      ],
      "execution_count": 0,
      "outputs": []
    },
    {
      "metadata": {
        "id": "9angW_sXosfc",
        "colab_type": "code",
        "colab": {
          "autoexec": {
            "startup": false,
            "wait_interval": 0
          }
        }
      },
      "cell_type": "code",
      "source": [
        ""
      ],
      "execution_count": 0,
      "outputs": []
    }
  ]
}