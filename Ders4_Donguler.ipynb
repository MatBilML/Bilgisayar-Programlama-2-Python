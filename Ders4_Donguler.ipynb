{
  "nbformat": 4,
  "nbformat_minor": 0,
  "metadata": {
    "colab": {
      "name": "Ders4-Donguler.ipynb",
      "version": "0.3.2",
      "views": {},
      "default_view": {},
      "provenance": []
    }
  },
  "cells": [
    {
      "metadata": {
        "id": "gYED-HxMq6H5",
        "colab_type": "code",
        "colab": {
          "autoexec": {
            "startup": false,
            "wait_interval": 0
          }
        }
      },
      "cell_type": "code",
      "source": [
        ""
      ],
      "execution_count": 0,
      "outputs": []
    },
    {
      "metadata": {
        "id": "M90guCGoq60W",
        "colab_type": "text"
      },
      "cell_type": "markdown",
      "source": [
        "* Döngü Yapılarına Giriş\n",
        "* For Döngüleri\n",
        "* While Döngüleri\n",
        "* range() Fonksiyonu\n",
        "* Break ve Continue İfadeleri\n",
        "* List Comprehension\n",
        "* Ders içi Uygulama\n",
        "* Haftalık Ödev"
      ]
    },
    {
      "metadata": {
        "id": "1g3FAweofGf8",
        "colab_type": "text"
      },
      "cell_type": "markdown",
      "source": [
        "# **While Döngüleri**\n",
        "\n",
        "                            while (koşul):\n",
        "                                İşlem1\n",
        "                                İşlem2\n",
        "                                İşlem3\n",
        "                                  //\n",
        "                                  //\n"
      ]
    },
    {
      "metadata": {
        "id": "fBt8kCdvfMSo",
        "colab_type": "code",
        "colab": {
          "autoexec": {
            "startup": false,
            "wait_interval": 0
          }
        }
      },
      "cell_type": "code",
      "source": [
        "x = 0 \n",
        "y=99\n",
        "\n",
        "while (x < 10):\n",
        "    print(\"x'nin degeri\",x)\n",
        "    x += 1\n",
        "    \n",
        "while(y>0):\n",
        "  print(\"y'nin degeri\",y)\n",
        "  y -=1"
      ],
      "execution_count": 0,
      "outputs": []
    },
    {
      "metadata": {
        "id": "f4LOOOljqiuq",
        "colab_type": "text"
      },
      "cell_type": "markdown",
      "source": [
        "# **range() Fonksiyonu**\n",
        "range() fanksiyonu belirtilen başlangıç sonuç ve artış miktarını belirterek sayı dizisi oluşturur."
      ]
    },
    {
      "metadata": {
        "id": "DBdjfbZIqpgj",
        "colab_type": "code",
        "colab": {
          "autoexec": {
            "startup": false,
            "wait_interval": 0
          },
          "output_extras": [
            {
              "item_id": 1
            }
          ],
          "base_uri": "https://localhost:8080/",
          "height": 36
        },
        "outputId": "6ef0f8fc-540c-4f72-d352-eba7f2d590c2",
        "executionInfo": {
          "status": "ok",
          "timestamp": 1520313129040,
          "user_tz": -180,
          "elapsed": 616,
          "user": {
            "displayName": "Özer ÇELİK",
            "photoUrl": "//lh5.googleusercontent.com/-zXWHLydZydg/AAAAAAAAAAI/AAAAAAAACUE/Vk-d5hrZI64/s50-c-k-no/photo.jpg",
            "userId": "109393400238666254492"
          }
        }
      },
      "cell_type": "code",
      "source": [
        "print(range(0,23)) "
      ],
      "execution_count": 4,
      "outputs": [
        {
          "output_type": "stream",
          "text": [
            "[0, 1, 2, 3, 4, 5, 6, 7, 8, 9, 10, 11, 12, 13, 14, 15, 16, 17, 18, 19, 20, 21, 22]\n"
          ],
          "name": "stdout"
        }
      ]
    },
    {
      "metadata": {
        "id": "em9uMYBiCpI1",
        "colab_type": "code",
        "colab": {
          "autoexec": {
            "startup": false,
            "wait_interval": 0
          },
          "output_extras": [
            {
              "item_id": 1
            }
          ],
          "base_uri": "https://localhost:8080/",
          "height": 34
        },
        "outputId": "c4392080-2486-40fb-be5a-77f3e3ff822e",
        "executionInfo": {
          "status": "ok",
          "timestamp": 1520284929238,
          "user_tz": -120,
          "elapsed": 827,
          "user": {
            "displayName": "Özer ÇELİK",
            "photoUrl": "//lh5.googleusercontent.com/-zXWHLydZydg/AAAAAAAAAAI/AAAAAAAACUE/Vk-d5hrZI64/s50-c-k-no/photo.jpg",
            "userId": "109393400238666254492"
          }
        }
      },
      "cell_type": "code",
      "source": [
        "print(range(1,11)) "
      ],
      "execution_count": 68,
      "outputs": [
        {
          "output_type": "stream",
          "text": [
            "[1, 2, 3, 4, 5, 6, 7, 8, 9, 10]\n"
          ],
          "name": "stdout"
        }
      ]
    },
    {
      "metadata": {
        "id": "15q4OfABq0cl",
        "colab_type": "code",
        "colab": {
          "autoexec": {
            "startup": false,
            "wait_interval": 0
          },
          "output_extras": [
            {
              "item_id": 1
            }
          ],
          "base_uri": "https://localhost:8080/",
          "height": 36
        },
        "outputId": "3e91d229-4991-4149-ce38-3c4384599b5d",
        "executionInfo": {
          "status": "ok",
          "timestamp": 1520313119662,
          "user_tz": -180,
          "elapsed": 619,
          "user": {
            "displayName": "Özer ÇELİK",
            "photoUrl": "//lh5.googleusercontent.com/-zXWHLydZydg/AAAAAAAAAAI/AAAAAAAACUE/Vk-d5hrZI64/s50-c-k-no/photo.jpg",
            "userId": "109393400238666254492"
          }
        }
      },
      "cell_type": "code",
      "source": [
        "liste = list(range(-3,23)) \n",
        "print(liste)"
      ],
      "execution_count": 3,
      "outputs": [
        {
          "output_type": "stream",
          "text": [
            "[-3, -2, -1, 0, 1, 2, 3, 4, 5, 6, 7, 8, 9, 10, 11, 12, 13, 14, 15, 16, 17, 18, 19, 20, 21, 22]\n"
          ],
          "name": "stdout"
        }
      ]
    },
    {
      "metadata": {
        "id": "JPK_GgHZq2Yh",
        "colab_type": "code",
        "colab": {
          "autoexec": {
            "startup": false,
            "wait_interval": 0
          },
          "output_extras": [
            {
              "item_id": 1
            }
          ],
          "base_uri": "https://localhost:8080/",
          "height": 36
        },
        "outputId": "7b7ea82d-1932-4af0-c7a2-3a716af6fb01",
        "executionInfo": {
          "status": "ok",
          "timestamp": 1520313107997,
          "user_tz": -180,
          "elapsed": 802,
          "user": {
            "displayName": "Özer ÇELİK",
            "photoUrl": "//lh5.googleusercontent.com/-zXWHLydZydg/AAAAAAAAAAI/AAAAAAAACUE/Vk-d5hrZI64/s50-c-k-no/photo.jpg",
            "userId": "109393400238666254492"
          }
        }
      },
      "cell_type": "code",
      "source": [
        "print(range(3,23))"
      ],
      "execution_count": 1,
      "outputs": [
        {
          "output_type": "stream",
          "text": [
            "[3, 4, 5, 6, 7, 8, 9, 10, 11, 12, 13, 14, 15, 16, 17, 18, 19, 20, 21, 22]\n"
          ],
          "name": "stdout"
        }
      ]
    },
    {
      "metadata": {
        "id": "NbzKMuUzq7UQ",
        "colab_type": "code",
        "colab": {
          "autoexec": {
            "startup": false,
            "wait_interval": 0
          },
          "output_extras": [
            {
              "item_id": 1
            }
          ],
          "base_uri": "https://localhost:8080/",
          "height": 36
        },
        "outputId": "33bd709e-6ea0-4fdb-e6a7-13b724d515e4",
        "executionInfo": {
          "status": "ok",
          "timestamp": 1520313110596,
          "user_tz": -180,
          "elapsed": 619,
          "user": {
            "displayName": "Özer ÇELİK",
            "photoUrl": "//lh5.googleusercontent.com/-zXWHLydZydg/AAAAAAAAAAI/AAAAAAAACUE/Vk-d5hrZI64/s50-c-k-no/photo.jpg",
            "userId": "109393400238666254492"
          }
        }
      },
      "cell_type": "code",
      "source": [
        "print(range(15)) "
      ],
      "execution_count": 2,
      "outputs": [
        {
          "output_type": "stream",
          "text": [
            "[0, 1, 2, 3, 4, 5, 6, 7, 8, 9, 10, 11, 12, 13, 14]\n"
          ],
          "name": "stdout"
        }
      ]
    },
    {
      "metadata": {
        "id": "xnPy_kS4q9bE",
        "colab_type": "code",
        "colab": {
          "autoexec": {
            "startup": false,
            "wait_interval": 0
          },
          "output_extras": [
            {
              "item_id": 1
            }
          ],
          "base_uri": "https://localhost:8080/",
          "height": 34
        },
        "outputId": "edc713a7-5eeb-4c7c-a5e9-5c68e446958c",
        "executionInfo": {
          "status": "ok",
          "timestamp": 1520285040763,
          "user_tz": -120,
          "elapsed": 737,
          "user": {
            "displayName": "Özer ÇELİK",
            "photoUrl": "//lh5.googleusercontent.com/-zXWHLydZydg/AAAAAAAAAAI/AAAAAAAACUE/Vk-d5hrZI64/s50-c-k-no/photo.jpg",
            "userId": "109393400238666254492"
          }
        }
      },
      "cell_type": "code",
      "source": [
        "print(range(3,23,3)) "
      ],
      "execution_count": 74,
      "outputs": [
        {
          "output_type": "stream",
          "text": [
            "[5, 7, 9, 11, 13, 15, 17, 19]\n"
          ],
          "name": "stdout"
        }
      ]
    },
    {
      "metadata": {
        "id": "vJLxEbqOrC5Q",
        "colab_type": "code",
        "colab": {
          "autoexec": {
            "startup": false,
            "wait_interval": 0
          },
          "output_extras": [
            {
              "item_id": 1
            }
          ],
          "base_uri": "https://localhost:8080/",
          "height": 375
        },
        "outputId": "3ae11aa6-22a3-4754-bdc7-93a9b8657653",
        "executionInfo": {
          "status": "ok",
          "timestamp": 1520313378952,
          "user_tz": -180,
          "elapsed": 751,
          "user": {
            "displayName": "Özer ÇELİK",
            "photoUrl": "//lh5.googleusercontent.com/-zXWHLydZydg/AAAAAAAAAAI/AAAAAAAACUE/Vk-d5hrZI64/s50-c-k-no/photo.jpg",
            "userId": "109393400238666254492"
          }
        }
      },
      "cell_type": "code",
      "source": [
        "for sayi in range(1,20):\n",
        "    print(\"* \" * sayi)"
      ],
      "execution_count": 7,
      "outputs": [
        {
          "output_type": "stream",
          "text": [
            "* \n",
            "* * \n",
            "* * * \n",
            "* * * * \n",
            "* * * * * \n",
            "* * * * * * \n",
            "* * * * * * * \n",
            "* * * * * * * * \n",
            "* * * * * * * * * \n",
            "* * * * * * * * * * \n",
            "* * * * * * * * * * * \n",
            "* * * * * * * * * * * * \n",
            "* * * * * * * * * * * * * \n",
            "* * * * * * * * * * * * * * \n",
            "* * * * * * * * * * * * * * * \n",
            "* * * * * * * * * * * * * * * * \n",
            "* * * * * * * * * * * * * * * * * \n",
            "* * * * * * * * * * * * * * * * * * \n",
            "* * * * * * * * * * * * * * * * * * * \n"
          ],
          "name": "stdout"
        }
      ]
    },
    {
      "metadata": {
        "id": "atSoeJO6fQUS",
        "colab_type": "text"
      },
      "cell_type": "markdown",
      "source": [
        "# **in Operatörü**\n",
        "öncesinde yer alan değeri liste,demet veya string içerisinde olup olmadığına göre True-False değeri döndürür"
      ]
    },
    {
      "metadata": {
        "id": "rxZ-o8AKfnQL",
        "colab_type": "code",
        "colab": {
          "autoexec": {
            "startup": false,
            "wait_interval": 0
          },
          "output_extras": [
            {
              "item_id": 1
            }
          ],
          "base_uri": "https://localhost:8080/",
          "height": 34
        },
        "outputId": "2a4c343c-e87d-41d0-fb3f-8dfc3c9d4bf0",
        "executionInfo": {
          "status": "ok",
          "timestamp": 1520278179210,
          "user_tz": -120,
          "elapsed": 722,
          "user": {
            "displayName": "Özer ÇELİK",
            "photoUrl": "//lh5.googleusercontent.com/-zXWHLydZydg/AAAAAAAAAAI/AAAAAAAACUE/Vk-d5hrZI64/s50-c-k-no/photo.jpg",
            "userId": "109393400238666254492"
          }
        }
      },
      "cell_type": "code",
      "source": [
        "\"t\" in \"matbil\""
      ],
      "execution_count": 2,
      "outputs": [
        {
          "output_type": "execute_result",
          "data": {
            "text/plain": [
              "True"
            ]
          },
          "metadata": {
            "tags": []
          },
          "execution_count": 2
        }
      ]
    },
    {
      "metadata": {
        "id": "OttCNEyVfqct",
        "colab_type": "code",
        "colab": {
          "autoexec": {
            "startup": false,
            "wait_interval": 0
          },
          "output_extras": [
            {
              "item_id": 1
            }
          ],
          "base_uri": "https://localhost:8080/",
          "height": 34
        },
        "outputId": "b24f4576-06dc-4c4c-cc54-d52fdf1e5ad3",
        "executionInfo": {
          "status": "ok",
          "timestamp": 1520278251267,
          "user_tz": -120,
          "elapsed": 746,
          "user": {
            "displayName": "Özer ÇELİK",
            "photoUrl": "//lh5.googleusercontent.com/-zXWHLydZydg/AAAAAAAAAAI/AAAAAAAACUE/Vk-d5hrZI64/s50-c-k-no/photo.jpg",
            "userId": "109393400238666254492"
          }
        }
      },
      "cell_type": "code",
      "source": [
        "23 in [11,\"t\",23,33,\"matbil\",44]"
      ],
      "execution_count": 7,
      "outputs": [
        {
          "output_type": "execute_result",
          "data": {
            "text/plain": [
              "True"
            ]
          },
          "metadata": {
            "tags": []
          },
          "execution_count": 7
        }
      ]
    },
    {
      "metadata": {
        "id": "Iu06W1_yfx8d",
        "colab_type": "text"
      },
      "cell_type": "markdown",
      "source": [
        "# **for Döngüsü**\n",
        "        for eleman in veri_yapısı(liste,string,demet):\n",
        "            Yapılacak İşlemler"
      ]
    },
    {
      "metadata": {
        "id": "KayqMEfFf2AT",
        "colab_type": "code",
        "colab": {
          "autoexec": {
            "startup": false,
            "wait_interval": 0
          },
          "output_extras": [
            {
              "item_id": 1
            }
          ],
          "base_uri": "https://localhost:8080/",
          "height": 136
        },
        "outputId": "8a1173be-cc47-4f68-d59e-05069581c95c",
        "executionInfo": {
          "status": "ok",
          "timestamp": 1520278856002,
          "user_tz": -120,
          "elapsed": 710,
          "user": {
            "displayName": "Özer ÇELİK",
            "photoUrl": "//lh5.googleusercontent.com/-zXWHLydZydg/AAAAAAAAAAI/AAAAAAAACUE/Vk-d5hrZI64/s50-c-k-no/photo.jpg",
            "userId": "109393400238666254492"
          }
        }
      },
      "cell_type": "code",
      "source": [
        "liste_ornek = [1,2,3,4,5,6,7]\n",
        "\n",
        "for eleman in liste_ornek:\n",
        "    print(\"Eleman\",eleman)"
      ],
      "execution_count": 23,
      "outputs": [
        {
          "output_type": "stream",
          "text": [
            "('Eleman', 1)\n",
            "('Eleman', 2)\n",
            "('Eleman', 3)\n",
            "('Eleman', 4)\n",
            "('Eleman', 5)\n",
            "('Eleman', 6)\n",
            "('Eleman', 7)\n"
          ],
          "name": "stdout"
        }
      ]
    },
    {
      "metadata": {
        "id": "RWef2U9vf633",
        "colab_type": "code",
        "colab": {
          "autoexec": {
            "startup": false,
            "wait_interval": 0
          },
          "output_extras": [
            {
              "item_id": 1
            }
          ],
          "base_uri": "https://localhost:8080/",
          "height": 34
        },
        "outputId": "bb10e5b6-82d1-4546-9036-ecb584638450",
        "executionInfo": {
          "status": "ok",
          "timestamp": 1520278842061,
          "user_tz": -120,
          "elapsed": 748,
          "user": {
            "displayName": "Özer ÇELİK",
            "photoUrl": "//lh5.googleusercontent.com/-zXWHLydZydg/AAAAAAAAAAI/AAAAAAAACUE/Vk-d5hrZI64/s50-c-k-no/photo.jpg",
            "userId": "109393400238666254492"
          }
        }
      },
      "cell_type": "code",
      "source": [
        "liste_ornek = [1,2,3,4,5,6,7]\n",
        "toplam = 0\n",
        "for eleman in liste_ornek:\n",
        "    toplam += eleman\n",
        "print(\"Toplam\",toplam)"
      ],
      "execution_count": 22,
      "outputs": [
        {
          "output_type": "stream",
          "text": [
            "('Toplam', 28)\n"
          ],
          "name": "stdout"
        }
      ]
    },
    {
      "metadata": {
        "id": "EdmmkTKGf7ef",
        "colab_type": "code",
        "colab": {
          "autoexec": {
            "startup": false,
            "wait_interval": 0
          },
          "output_extras": [
            {
              "item_id": 1
            }
          ],
          "base_uri": "https://localhost:8080/",
          "height": 85
        },
        "outputId": "9c235e55-eb1d-4413-f200-ff8d3f6d6024",
        "executionInfo": {
          "status": "ok",
          "timestamp": 1520278870819,
          "user_tz": -120,
          "elapsed": 811,
          "user": {
            "displayName": "Özer ÇELİK",
            "photoUrl": "//lh5.googleusercontent.com/-zXWHLydZydg/AAAAAAAAAAI/AAAAAAAACUE/Vk-d5hrZI64/s50-c-k-no/photo.jpg",
            "userId": "109393400238666254492"
          }
        }
      },
      "cell_type": "code",
      "source": [
        "liste = [1,2,3,4,5,6,7,8,9]\n",
        "\n",
        "for eleman in liste:\n",
        "    if eleman % 2 == 0:\n",
        "        print(eleman)"
      ],
      "execution_count": 24,
      "outputs": [
        {
          "output_type": "stream",
          "text": [
            "2\n",
            "4\n",
            "6\n",
            "8\n"
          ],
          "name": "stdout"
        }
      ]
    },
    {
      "metadata": {
        "id": "cSFjSVhJiq7S",
        "colab_type": "code",
        "colab": {
          "autoexec": {
            "startup": false,
            "wait_interval": 0
          },
          "output_extras": [
            {
              "item_id": 1
            }
          ],
          "base_uri": "https://localhost:8080/",
          "height": 102
        },
        "outputId": "0f474f4c-c7b0-4908-b0de-8f1ef977e3f9",
        "executionInfo": {
          "status": "ok",
          "timestamp": 1520281147219,
          "user_tz": -120,
          "elapsed": 744,
          "user": {
            "displayName": "Özer ÇELİK",
            "photoUrl": "//lh5.googleusercontent.com/-zXWHLydZydg/AAAAAAAAAAI/AAAAAAAACUE/Vk-d5hrZI64/s50-c-k-no/photo.jpg",
            "userId": "109393400238666254492"
          }
        }
      },
      "cell_type": "code",
      "source": [
        "liste = [(1,2),(3,4),(5,6),(7,8)]\n",
        "i=0\n",
        "for eleman in liste:\n",
        "    i=i+1\n",
        "    print(eleman)\n",
        "    \n",
        "print(i)"
      ],
      "execution_count": 39,
      "outputs": [
        {
          "output_type": "stream",
          "text": [
            "(1, 2)\n",
            "(3, 4)\n",
            "(5, 6)\n",
            "(7, 8)\n",
            "4\n"
          ],
          "name": "stdout"
        }
      ]
    },
    {
      "metadata": {
        "id": "9UHY0q3Wira7",
        "colab_type": "code",
        "colab": {
          "autoexec": {
            "startup": false,
            "wait_interval": 0
          },
          "output_extras": [
            {
              "item_id": 1
            }
          ],
          "base_uri": "https://localhost:8080/",
          "height": 85
        },
        "outputId": "06dac7e1-f2c5-4c17-f1a7-d03cfb681dfd",
        "executionInfo": {
          "status": "ok",
          "timestamp": 1520278970931,
          "user_tz": -120,
          "elapsed": 774,
          "user": {
            "displayName": "Özer ÇELİK",
            "photoUrl": "//lh5.googleusercontent.com/-zXWHLydZydg/AAAAAAAAAAI/AAAAAAAACUE/Vk-d5hrZI64/s50-c-k-no/photo.jpg",
            "userId": "109393400238666254492"
          }
        }
      },
      "cell_type": "code",
      "source": [
        "liste = [(1,2),(3,4),(5,6),(7,8)]\n",
        "\n",
        "for (i,j) in liste:\n",
        "    print(i,j,i+j)\n",
        "    "
      ],
      "execution_count": 28,
      "outputs": [
        {
          "output_type": "stream",
          "text": [
            "(1, 2, 3)\n",
            "(3, 4, 7)\n",
            "(5, 6, 11)\n",
            "(7, 8, 15)\n"
          ],
          "name": "stdout"
        }
      ]
    },
    {
      "metadata": {
        "id": "kwMVoRnIitMl",
        "colab_type": "code",
        "colab": {
          "autoexec": {
            "startup": false,
            "wait_interval": 0
          },
          "output_extras": [
            {
              "item_id": 1
            }
          ],
          "base_uri": "https://localhost:8080/",
          "height": 85
        },
        "outputId": "7f0fc50f-28d2-4829-bb1d-347b496040db",
        "executionInfo": {
          "status": "ok",
          "timestamp": 1520279022041,
          "user_tz": -120,
          "elapsed": 939,
          "user": {
            "displayName": "Özer ÇELİK",
            "photoUrl": "//lh5.googleusercontent.com/-zXWHLydZydg/AAAAAAAAAAI/AAAAAAAACUE/Vk-d5hrZI64/s50-c-k-no/photo.jpg",
            "userId": "109393400238666254492"
          }
        }
      },
      "cell_type": "code",
      "source": [
        "liste = [(1,2,3),(4,5,6),(7,8,9),(10,11,12)]\n",
        "for (i,j,k) in liste:\n",
        "    print(i * j * k)"
      ],
      "execution_count": 29,
      "outputs": [
        {
          "output_type": "stream",
          "text": [
            "6\n",
            "120\n",
            "504\n",
            "1320\n"
          ],
          "name": "stdout"
        }
      ]
    },
    {
      "metadata": {
        "id": "NMJKmei3i45V",
        "colab_type": "code",
        "colab": {
          "autoexec": {
            "startup": false,
            "wait_interval": 0
          },
          "output_extras": [
            {
              "item_id": 1
            }
          ],
          "base_uri": "https://localhost:8080/",
          "height": 85
        },
        "outputId": "a0aa5bbd-12de-4243-f61c-dc2b67cd6e6f",
        "executionInfo": {
          "status": "ok",
          "timestamp": 1520279089726,
          "user_tz": -120,
          "elapsed": 697,
          "user": {
            "displayName": "Özer ÇELİK",
            "photoUrl": "//lh5.googleusercontent.com/-zXWHLydZydg/AAAAAAAAAAI/AAAAAAAACUE/Vk-d5hrZI64/s50-c-k-no/photo.jpg",
            "userId": "109393400238666254492"
          }
        }
      },
      "cell_type": "code",
      "source": [
        "sozluk_ornek = {\"bir\":1,\"iki\":2,\"üç\":3,\"dört\":4}\n",
        "\n",
        "for eleman in sozluk_ornek:\n",
        "    print(eleman)"
      ],
      "execution_count": 32,
      "outputs": [
        {
          "output_type": "stream",
          "text": [
            "dört\n",
            "iki\n",
            "bir\n",
            "üç\n"
          ],
          "name": "stdout"
        }
      ]
    },
    {
      "metadata": {
        "id": "ZqkFeswGi9A6",
        "colab_type": "code",
        "colab": {
          "autoexec": {
            "startup": false,
            "wait_interval": 0
          },
          "output_extras": [
            {
              "item_id": 1
            }
          ],
          "base_uri": "https://localhost:8080/",
          "height": 85
        },
        "outputId": "ecd07e57-9aef-4cd6-dd15-9e2c29b38a82",
        "executionInfo": {
          "status": "ok",
          "timestamp": 1520279104932,
          "user_tz": -120,
          "elapsed": 724,
          "user": {
            "displayName": "Özer ÇELİK",
            "photoUrl": "//lh5.googleusercontent.com/-zXWHLydZydg/AAAAAAAAAAI/AAAAAAAACUE/Vk-d5hrZI64/s50-c-k-no/photo.jpg",
            "userId": "109393400238666254492"
          }
        }
      },
      "cell_type": "code",
      "source": [
        "sozluk_ornek = {\"bir\":1,\"iki\":2,\"üç\":3,\"dört\":4}\n",
        "\n",
        "for eleman in sozluk_ornek.values():\n",
        "    print(eleman)"
      ],
      "execution_count": 33,
      "outputs": [
        {
          "output_type": "stream",
          "text": [
            "4\n",
            "2\n",
            "1\n",
            "3\n"
          ],
          "name": "stdout"
        }
      ]
    },
    {
      "metadata": {
        "id": "OLYJDzBRi--4",
        "colab_type": "code",
        "colab": {
          "autoexec": {
            "startup": false,
            "wait_interval": 0
          },
          "output_extras": [
            {
              "item_id": 1
            }
          ],
          "base_uri": "https://localhost:8080/",
          "height": 85
        },
        "outputId": "a76b401f-2444-4058-f99e-48305932b669",
        "executionInfo": {
          "status": "ok",
          "timestamp": 1520279139769,
          "user_tz": -120,
          "elapsed": 852,
          "user": {
            "displayName": "Özer ÇELİK",
            "photoUrl": "//lh5.googleusercontent.com/-zXWHLydZydg/AAAAAAAAAAI/AAAAAAAACUE/Vk-d5hrZI64/s50-c-k-no/photo.jpg",
            "userId": "109393400238666254492"
          }
        }
      },
      "cell_type": "code",
      "source": [
        "\n",
        "sozluk_ornek = {\"bir\":1,\"iki\":2,\"uc\":3,\"dort\":4}\n",
        "\n",
        "for (i,j) in sozluk_ornek.items():\n",
        "    print(\"Anahtar:\",i,\"Deger:\",j)"
      ],
      "execution_count": 35,
      "outputs": [
        {
          "output_type": "stream",
          "text": [
            "('Anahtar:', 'dort', 'Deger:', 4)\n",
            "('Anahtar:', 'iki', 'Deger:', 2)\n",
            "('Anahtar:', 'bir', 'Deger:', 1)\n",
            "('Anahtar:', 'uc', 'Deger:', 3)\n"
          ],
          "name": "stdout"
        }
      ]
    },
    {
      "metadata": {
        "id": "DfOop706kzJb",
        "colab_type": "text"
      },
      "cell_type": "markdown",
      "source": [
        "# **break ifadesi**\n",
        "\n",
        "Döngü herhangi bir yerde ve herhangi bir zamanda break ifadesiyle karşılaştığı zaman\n",
        "        çalışmasını bir anda durdurur. Böylelikle döngü hiçbir koşula bağlı kalmadan sonlanmış olur."
      ]
    },
    {
      "metadata": {
        "id": "HbGXl16go09k",
        "colab_type": "code",
        "colab": {
          "autoexec": {
            "startup": false,
            "wait_interval": 0
          },
          "output_extras": [
            {
              "item_id": 1
            }
          ],
          "base_uri": "https://localhost:8080/",
          "height": 204
        },
        "outputId": "0cc1fdb5-85e2-4201-f776-f55a47a66047",
        "executionInfo": {
          "status": "ok",
          "timestamp": 1520281693308,
          "user_tz": -120,
          "elapsed": 780,
          "user": {
            "displayName": "Özer ÇELİK",
            "photoUrl": "//lh5.googleusercontent.com/-zXWHLydZydg/AAAAAAAAAAI/AAAAAAAACUE/Vk-d5hrZI64/s50-c-k-no/photo.jpg",
            "userId": "109393400238666254492"
          }
        }
      },
      "cell_type": "code",
      "source": [
        "\n",
        "i = 0 \n",
        "\n",
        "while (i < 20):\n",
        "    print(i)\n",
        "    if (i == 10):\n",
        "        break \n",
        "    i +=1"
      ],
      "execution_count": 58,
      "outputs": [
        {
          "output_type": "stream",
          "text": [
            "0\n",
            "1\n",
            "2\n",
            "3\n",
            "4\n",
            "5\n",
            "6\n",
            "7\n",
            "8\n",
            "9\n",
            "10\n"
          ],
          "name": "stdout"
        }
      ]
    },
    {
      "metadata": {
        "id": "cWaw1a7Ao14e",
        "colab_type": "code",
        "colab": {
          "autoexec": {
            "startup": false,
            "wait_interval": 0
          }
        }
      },
      "cell_type": "code",
      "source": [
        "while True:  \n",
        "    isim = input(\"İsminiz(Çıkmak için q tuşuna basın.):\")\n",
        "    if (isim == \"q\"): \n",
        "        print(\"Çıkış yapılıyor...\")\n",
        "        break\n",
        "    print(isim)"
      ],
      "execution_count": 0,
      "outputs": []
    },
    {
      "metadata": {
        "id": "m5SAsvApo87Z",
        "colab_type": "text"
      },
      "cell_type": "markdown",
      "source": [
        "# **continue ifadesi**\n",
        "continue ifadesi break'e göre biraz daha az kullanılan bir ifadedir. Anlamı şu şekildedir;\n",
        "\n",
        "    Döngü herhangi bir yerde ve herhangi bir zamanda continue ifadesiyle karşılaştığı zaman geri kalan işlemlerini\n",
        "    yapmadan direk bloğunun başına döner."
      ]
    },
    {
      "metadata": {
        "id": "B-SRYt4pj_3o",
        "colab_type": "text"
      },
      "cell_type": "markdown",
      "source": [
        "# **List Comprehension**\n",
        "\n",
        "\n"
      ]
    },
    {
      "metadata": {
        "id": "0S6xel7DkI-d",
        "colab_type": "code",
        "colab": {
          "autoexec": {
            "startup": false,
            "wait_interval": 0
          },
          "output_extras": [
            {
              "item_id": 1
            }
          ],
          "base_uri": "https://localhost:8080/",
          "height": 34
        },
        "outputId": "ca24c829-14d6-4f5d-cf4b-e0d7ec8a87d2",
        "executionInfo": {
          "status": "ok",
          "timestamp": 1520281315949,
          "user_tz": -120,
          "elapsed": 764,
          "user": {
            "displayName": "Özer ÇELİK",
            "photoUrl": "//lh5.googleusercontent.com/-zXWHLydZydg/AAAAAAAAAAI/AAAAAAAACUE/Vk-d5hrZI64/s50-c-k-no/photo.jpg",
            "userId": "109393400238666254492"
          }
        }
      },
      "cell_type": "code",
      "source": [
        "liste1 = [1,2,3,4,5]\n",
        "\n",
        "liste2 = list()\n",
        "\n",
        "for i in liste1:\n",
        "    liste2.append(i) \n",
        "    \n",
        "print(liste2)"
      ],
      "execution_count": 40,
      "outputs": [
        {
          "output_type": "stream",
          "text": [
            "[1, 2, 3, 4, 5]\n"
          ],
          "name": "stdout"
        }
      ]
    },
    {
      "metadata": {
        "id": "XHSbs4dikJkN",
        "colab_type": "code",
        "colab": {
          "autoexec": {
            "startup": false,
            "wait_interval": 0
          },
          "output_extras": [
            {
              "item_id": 1
            }
          ],
          "base_uri": "https://localhost:8080/",
          "height": 34
        },
        "outputId": "fa3e2440-a927-40d9-d177-391170e0a37c",
        "executionInfo": {
          "status": "ok",
          "timestamp": 1520281437304,
          "user_tz": -120,
          "elapsed": 769,
          "user": {
            "displayName": "Özer ÇELİK",
            "photoUrl": "//lh5.googleusercontent.com/-zXWHLydZydg/AAAAAAAAAAI/AAAAAAAACUE/Vk-d5hrZI64/s50-c-k-no/photo.jpg",
            "userId": "109393400238666254492"
          }
        }
      },
      "cell_type": "code",
      "source": [
        "liste1 = [1,2,3,4,5] \n",
        "liste4=list()\n",
        "\n",
        "liste4=[i for i in liste1]\n",
        "\n",
        "print(liste4)"
      ],
      "execution_count": 47,
      "outputs": [
        {
          "output_type": "stream",
          "text": [
            "[1, 2, 3, 4, 5]\n"
          ],
          "name": "stdout"
        }
      ]
    },
    {
      "metadata": {
        "id": "-k34iyhQkLu7",
        "colab_type": "code",
        "colab": {
          "autoexec": {
            "startup": false,
            "wait_interval": 0
          },
          "output_extras": [
            {
              "item_id": 1
            }
          ],
          "base_uri": "https://localhost:8080/",
          "height": 34
        },
        "outputId": "e0dbe908-3996-42fc-fc39-b09d6fd5770d",
        "executionInfo": {
          "status": "ok",
          "timestamp": 1520281456990,
          "user_tz": -120,
          "elapsed": 724,
          "user": {
            "displayName": "Özer ÇELİK",
            "photoUrl": "//lh5.googleusercontent.com/-zXWHLydZydg/AAAAAAAAAAI/AAAAAAAACUE/Vk-d5hrZI64/s50-c-k-no/photo.jpg",
            "userId": "109393400238666254492"
          }
        }
      },
      "cell_type": "code",
      "source": [
        "\n",
        "liste1 = [1,2,3,4,5] \n",
        "\n",
        "liste2 = [i*2 for i in liste1] \n",
        "\n",
        "print(liste2)"
      ],
      "execution_count": 48,
      "outputs": [
        {
          "output_type": "stream",
          "text": [
            "[2, 4, 6, 8, 10]\n"
          ],
          "name": "stdout"
        }
      ]
    },
    {
      "metadata": {
        "id": "aDuTz4uskNvw",
        "colab_type": "code",
        "colab": {
          "autoexec": {
            "startup": false,
            "wait_interval": 0
          },
          "output_extras": [
            {
              "item_id": 1
            }
          ],
          "base_uri": "https://localhost:8080/",
          "height": 34
        },
        "outputId": "a9edb733-ff5e-409e-967b-0aa8efd9ca5b",
        "executionInfo": {
          "status": "ok",
          "timestamp": 1520281466794,
          "user_tz": -120,
          "elapsed": 1300,
          "user": {
            "displayName": "Özer ÇELİK",
            "photoUrl": "//lh5.googleusercontent.com/-zXWHLydZydg/AAAAAAAAAAI/AAAAAAAACUE/Vk-d5hrZI64/s50-c-k-no/photo.jpg",
            "userId": "109393400238666254492"
          }
        }
      },
      "cell_type": "code",
      "source": [
        "liste1 = [(1,2),(3,4),(5,6)] \n",
        "\n",
        "liste2 = [i*j for (i,j) in liste1] \n",
        "print(liste2)"
      ],
      "execution_count": 49,
      "outputs": [
        {
          "output_type": "stream",
          "text": [
            "[2, 12, 30]\n"
          ],
          "name": "stdout"
        }
      ]
    },
    {
      "metadata": {
        "id": "lfIowpO2kPz9",
        "colab_type": "code",
        "colab": {
          "autoexec": {
            "startup": false,
            "wait_interval": 0
          },
          "output_extras": [
            {
              "item_id": 1
            }
          ],
          "base_uri": "https://localhost:8080/",
          "height": 34
        },
        "outputId": "61136b33-30ad-4dfc-db09-7426d270e0bc",
        "executionInfo": {
          "status": "ok",
          "timestamp": 1520281557284,
          "user_tz": -120,
          "elapsed": 746,
          "user": {
            "displayName": "Özer ÇELİK",
            "photoUrl": "//lh5.googleusercontent.com/-zXWHLydZydg/AAAAAAAAAAI/AAAAAAAACUE/Vk-d5hrZI64/s50-c-k-no/photo.jpg",
            "userId": "109393400238666254492"
          }
        }
      },
      "cell_type": "code",
      "source": [
        "liste1 = [1,2,3,4,5,6,7,8,9,10]\n",
        "\n",
        "x=0\n",
        "liste2 = [i for i in liste1 if not (i == 4 or i == 9)] \n",
        "\n",
        "print(liste2)"
      ],
      "execution_count": 54,
      "outputs": [
        {
          "output_type": "stream",
          "text": [
            "[1, 2, 3, 5, 6, 7, 8, 10]\n"
          ],
          "name": "stdout"
        }
      ]
    },
    {
      "metadata": {
        "id": "udWAZahlkRbo",
        "colab_type": "code",
        "colab": {
          "autoexec": {
            "startup": false,
            "wait_interval": 0
          },
          "output_extras": [
            {
              "item_id": 1
            }
          ],
          "base_uri": "https://localhost:8080/",
          "height": 68
        },
        "outputId": "5973650b-0222-445d-b159-92ad5f78157f",
        "executionInfo": {
          "status": "ok",
          "timestamp": 1520281572613,
          "user_tz": -120,
          "elapsed": 738,
          "user": {
            "displayName": "Özer ÇELİK",
            "photoUrl": "//lh5.googleusercontent.com/-zXWHLydZydg/AAAAAAAAAAI/AAAAAAAACUE/Vk-d5hrZI64/s50-c-k-no/photo.jpg",
            "userId": "109393400238666254492"
          }
        }
      },
      "cell_type": "code",
      "source": [
        "liste = [[1,2,3],[4,5,6,7,8],[9,10,11,12,13,14,15]]\n",
        "liste2 = list()\n",
        "for i in liste:\n",
        "    print(i)"
      ],
      "execution_count": 55,
      "outputs": [
        {
          "output_type": "stream",
          "text": [
            "[1, 2, 3]\n",
            "[4, 5, 6, 7, 8]\n",
            "[9, 10, 11, 12, 13, 14, 15]\n"
          ],
          "name": "stdout"
        }
      ]
    },
    {
      "metadata": {
        "id": "lJr419qgkV0y",
        "colab_type": "code",
        "colab": {
          "autoexec": {
            "startup": false,
            "wait_interval": 0
          },
          "output_extras": [
            {
              "item_id": 1
            }
          ],
          "base_uri": "https://localhost:8080/",
          "height": 289
        },
        "outputId": "af98cd0b-8251-48f5-ffa6-3d152cc90b3f",
        "executionInfo": {
          "status": "ok",
          "timestamp": 1520281589459,
          "user_tz": -120,
          "elapsed": 753,
          "user": {
            "displayName": "Özer ÇELİK",
            "photoUrl": "//lh5.googleusercontent.com/-zXWHLydZydg/AAAAAAAAAAI/AAAAAAAACUE/Vk-d5hrZI64/s50-c-k-no/photo.jpg",
            "userId": "109393400238666254492"
          }
        }
      },
      "cell_type": "code",
      "source": [
        "\n",
        "liste = [[1,2,3],[4,5,6,7,8],[9,10,11,12,13,14,15]]\n",
        "liste2 = list()\n",
        "for i in liste:\n",
        "    for x in i:\n",
        "        print(\"x:\",x)\n",
        "        liste2.append(x)\n",
        "print(liste2)"
      ],
      "execution_count": 56,
      "outputs": [
        {
          "output_type": "stream",
          "text": [
            "('x:', 1)\n",
            "('x:', 2)\n",
            "('x:', 3)\n",
            "('x:', 4)\n",
            "('x:', 5)\n",
            "('x:', 6)\n",
            "('x:', 7)\n",
            "('x:', 8)\n",
            "('x:', 9)\n",
            "('x:', 10)\n",
            "('x:', 11)\n",
            "('x:', 12)\n",
            "('x:', 13)\n",
            "('x:', 14)\n",
            "('x:', 15)\n",
            "[1, 2, 3, 4, 5, 6, 7, 8, 9, 10, 11, 12, 13, 14, 15]\n"
          ],
          "name": "stdout"
        }
      ]
    },
    {
      "metadata": {
        "id": "it2RTUmikawz",
        "colab_type": "code",
        "colab": {
          "autoexec": {
            "startup": false,
            "wait_interval": 0
          },
          "output_extras": [
            {
              "item_id": 1
            }
          ],
          "base_uri": "https://localhost:8080/",
          "height": 34
        },
        "outputId": "076897e7-26a7-4c36-83ff-08926c9af5ad",
        "executionInfo": {
          "status": "ok",
          "timestamp": 1520281630848,
          "user_tz": -120,
          "elapsed": 722,
          "user": {
            "displayName": "Özer ÇELİK",
            "photoUrl": "//lh5.googleusercontent.com/-zXWHLydZydg/AAAAAAAAAAI/AAAAAAAACUE/Vk-d5hrZI64/s50-c-k-no/photo.jpg",
            "userId": "109393400238666254492"
          }
        }
      },
      "cell_type": "code",
      "source": [
        "\n",
        "liste = [[1,2,3],[4,5,6,7,8],[9,10,11,12,13,14,15]]\n",
        "liste2 = [x for i in liste for x in i] \n",
        "print(liste2)"
      ],
      "execution_count": 57,
      "outputs": [
        {
          "output_type": "stream",
          "text": [
            "[1, 2, 3, 4, 5, 6, 7, 8, 9, 10, 11, 12, 13, 14, 15]\n"
          ],
          "name": "stdout"
        }
      ]
    },
    {
      "metadata": {
        "id": "HFTQCeQ2pAB2",
        "colab_type": "code",
        "colab": {
          "autoexec": {
            "startup": false,
            "wait_interval": 0
          }
        }
      },
      "cell_type": "code",
      "source": [
        "liste = [1,2,3,4,5,6,7,8,9]\n",
        "\n",
        "\n",
        "for i in liste:\n",
        "    if (i == 3 or i == 5):\n",
        "        continue\n",
        "    print(\"i:\",i)"
      ],
      "execution_count": 0,
      "outputs": []
    }
  ]
}