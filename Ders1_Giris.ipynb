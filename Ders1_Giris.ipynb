{
 "cells": [
  {
   "cell_type": "markdown",
   "metadata": {
    "colab_type": "text",
    "id": "udaHuHWXtH6n"
   },
   "source": [
    " # Temel Python Objeleri ve Veri Yapıları**\n",
    "\n",
    "\n",
    "*  Veri Tipleri(Integer ve Float Veri Tipleri)\n",
    "*  Temel Matematik Operatörler Kullanımları\n",
    "*  Karakter Dizileri - Stringler\n",
    "    "
   ]
  },
  {
   "cell_type": "markdown",
   "metadata": {
    "colab_type": "text",
    "id": "TMcX-SdBuh3u"
   },
   "source": [
    "# Veri Tipleri"
   ]
  },
  {
   "cell_type": "markdown",
   "metadata": {
    "colab_type": "text",
    "id": "jLtSeBDburfT"
   },
   "source": [
    "\n",
    "\n",
    "*   **int: **Tam sayıları ifade eder 32 bit,± 2147483647 örnek olarak 105 tam sayısını gösterebiliriz.\n",
    "* **long:** Uzun tam sayıları ifade eder.\n",
    "*   **float:** veri tipi ondalıklı bir gerçek sayıyı ifade edder. 64 bit uzunluğa ve hassasiyete sahiptir. Örnek olarak 3.14159 rakamını paylaşabiliriz.\n",
    "*   **str:** Harf ya da rakam ve ya kombinasyonlarından oluşabilir string 'Ayşe 35 yaşında'\n",
    "*   **bool:** True, False değerlerini taşır özüne indiğimiz zaman esasında bir yada sıfır değerleri taşımaktadır.\n",
    "*   **list:** [1,2,3,4]\n",
    "*   **tuple:** (3.2, 4.5, 6.3)\n",
    "*   **dict:** {‘one’: 1, ‘two’: 2}"
   ]
  },
  {
   "cell_type": "markdown",
   "metadata": {
    "colab_type": "text",
    "id": "pAiG3uYPiwky"
   },
   "source": [
    "Örneğin veri tiplerini Python'da görmek için:"
   ]
  },
  {
   "cell_type": "code",
   "execution_count": 2,
   "metadata": {},
   "outputs": [
    {
     "name": "stdout",
     "output_type": "stream",
     "text": [
      "merhaba matbil\n",
      "5\n",
      "6\n",
      "7.3\n"
     ]
    }
   ],
   "source": [
    "tamsayi=5 #Tam sayı(Integer) tipindedir..\n",
    "x=6\n",
    "\n",
    "ondalikli=5.1 #Ondalıklı sayı(Float) tipindedir.\n",
    "y=7.3\n",
    "print(\"merhaba matbil\")\n",
    "print(tamsayi,x,y,sep=\"\\n\")"
   ]
  },
  {
   "cell_type": "code",
   "execution_count": 4,
   "metadata": {
    "colab": {
     "autoexec": {
      "startup": false,
      "wait_interval": 0
     },
     "base_uri": "https://localhost:8080/",
     "height": 136,
     "output_extras": [
      {
       "item_id": 1
      }
     ]
    },
    "colab_type": "code",
    "executionInfo": {
     "elapsed": 728,
     "status": "ok",
     "timestamp": 1518468010118,
     "user": {
      "displayName": "Özer ÇELİK",
      "photoUrl": "//lh5.googleusercontent.com/-zXWHLydZydg/AAAAAAAAAAI/AAAAAAAACUE/Vk-d5hrZI64/s50-c-k-no/photo.jpg",
      "userId": "109393400238666254492"
     },
     "user_tz": -120
    },
    "id": "lY3ZgVSKi2-S",
    "outputId": "aafdbb4d-2943-4c3e-efeb-1d0974685ddc"
   },
   "outputs": [
    {
     "name": "stdout",
     "output_type": "stream",
     "text": [
      "5\t\tTürü\t\t<class 'int'>\n",
      "5.1\t\tTürü\t\t<class 'float'>\n",
      "Merhaba Matbil Türü <class 'str'>\n"
     ]
    }
   ],
   "source": [
    "# Farklı veri tiplerini farklı değişkenlerde tanımlayalım:\n",
    "\n",
    "tamsayi=5 #Tam sayı(Integer) tipindedir..\n",
    "ondalikli=5.1 #Ondalıklı sayı(Float) tipindedir.\n",
    "string=\"Merhaba Matbil\" #String tipindedir.\n",
    "boolean=True #Boolean tipindedir.\n",
    "sozluk={\"Bir\":\"1\"} #Sözlük(Dictionary) tipindedir.\n",
    "liste=[1,2,3] #Liste (List) tipindedir.\n",
    "demet=(1,2,3) #Demet (Tuple) tipindedir\n",
    "\n",
    "# Yazdırma işlemi için print() fonksiyonu kullanılır,\n",
    "# type(degisken ismi) : değişkenin türünü döndürür\n",
    "# print(x,y,sep=\"\\t\\t\") print() fonksiyonun içerisinde yazdırılacak farklı \n",
    "# değişkenlerin ayrılma şeklini belirtir.\n",
    "# \\t : 5 adet boşluk koyar\n",
    "# \\n : yeni satıra geçiş yapar\n",
    "tamsayi=5 #Tam sayı(Integer) tipindedir..\n",
    "ondalikli=5.1 #Ondalıklı sayı(Float) tipindedir.\n",
    "string=\"Merhaba Matbil\" #String tipindedir.\n",
    "print(tamsayi,\"Türü\",type(tamsayi),sep=\"\\t\\t\")\n",
    "print(ondalikli,\"Türü\",type(ondalikli),sep=\"\\t\\t\")\n",
    "print(string,\"Türü\",type(string))\n",
    "\n"
   ]
  },
  {
   "cell_type": "code",
   "execution_count": 58,
   "metadata": {
    "colab": {
     "autoexec": {
      "startup": false,
      "wait_interval": 0
     },
     "base_uri": "https://localhost:8080/",
     "height": 153,
     "output_extras": [
      {
       "item_id": 1
      }
     ]
    },
    "colab_type": "code",
    "executionInfo": {
     "elapsed": 604,
     "status": "ok",
     "timestamp": 1518467685557,
     "user": {
      "displayName": "Özer ÇELİK",
      "photoUrl": "//lh5.googleusercontent.com/-zXWHLydZydg/AAAAAAAAAAI/AAAAAAAACUE/Vk-d5hrZI64/s50-c-k-no/photo.jpg",
      "userId": "109393400238666254492"
     },
     "user_tz": -120
    },
    "id": "R-Cj_zZZO73_",
    "outputId": "2ea5dd97-b447-466f-d743-6691133c7a7e"
   },
   "outputs": [
    {
     "name": "stdout",
     "output_type": "stream",
     "text": [
      "<class 'int'>\n",
      "<class 'float'>\n",
      "<class 'str'>\n",
      "<class 'bool'>\n",
      "15 22 matbil\n"
     ]
    }
   ],
   "source": [
    "a=25\n",
    "b=23.5\n",
    "c=\"Bilgisayar Programlama\"\n",
    "d=False\n",
    "\n",
    "print(type(a),type(b),type(c),type(d),sep=\"\\n\")\n",
    "\n",
    "\n",
    "a1,b1,c1=15,22,\"matbil\"\n",
    "\n",
    "print(a1,b1,c1)"
   ]
  },
  {
   "cell_type": "code",
   "execution_count": 5,
   "metadata": {},
   "outputs": [
    {
     "name": "stdout",
     "output_type": "stream",
     "text": [
      "3434\n",
      "ali\n",
      "veli\n"
     ]
    }
   ],
   "source": [
    "isim=\"ali\"\n",
    "soyisim=\"veli\"\n",
    "no=\"3434\"\n",
    "print(no,isim,soyisim,sep=\"\\n\")"
   ]
  },
  {
   "cell_type": "markdown",
   "metadata": {
    "colab_type": "text",
    "id": "1FPoxkPDnODx"
   },
   "source": [
    "# Print Fonksiyonu ve Formatlama"
   ]
  },
  {
   "cell_type": "markdown",
   "metadata": {
    "colab_type": "text",
    "id": "q7zDCpTpnSaX"
   },
   "source": [
    "\n",
    "\n",
    "*   Print() Fonksiyonu\n",
    "*   \\n karakteri\n",
    "*   type() fonksiyonu\n",
    "*   sep parametresi\n",
    "*   Yıldızlı Parametreler\n",
    "*   Formatlama\n",
    "\n",
    "## Print() Fonksiyonu\n",
    "Ekrana çıktı verdirmek için kullanılır.\n",
    "\n",
    "Birden fazla çıktı için virgül kullanılır.\n",
    "\n",
    "## \\n karakteri\n",
    "\n",
    "\"New-line\" kısaltması olarak bilinir. Bir satır boşluk bırakmak için kullanılır.\n",
    "\n"
   ]
  },
  {
   "cell_type": "code",
   "execution_count": 4,
   "metadata": {
    "colab": {
     "autoexec": {
      "startup": false,
      "wait_interval": 0
     },
     "base_uri": "https://localhost:8080/",
     "height": 51,
     "output_extras": [
      {
       "item_id": 1
      }
     ]
    },
    "colab_type": "code",
    "executionInfo": {
     "elapsed": 644,
     "status": "ok",
     "timestamp": 1518467686294,
     "user": {
      "displayName": "Özer ÇELİK",
      "photoUrl": "//lh5.googleusercontent.com/-zXWHLydZydg/AAAAAAAAAAI/AAAAAAAACUE/Vk-d5hrZI64/s50-c-k-no/photo.jpg",
      "userId": "109393400238666254492"
     },
     "user_tz": -120
    },
    "id": "PDuStTVpIkda",
    "outputId": "53f274c1-bbf2-4ec1-b563-6c6423e5bf37"
   },
   "outputs": [
    {
     "name": "stdout",
     "output_type": "stream",
     "text": [
      "Selam\n",
      "Merhaba\n",
      "matbil \t programlama\n"
     ]
    }
   ],
   "source": [
    "print(\"Selam\\nMerhaba\")\n",
    "print(\"matbil \\t programlama\")"
   ]
  },
  {
   "cell_type": "markdown",
   "metadata": {
    "colab_type": "text",
    "id": "XNl54IqPItTv"
   },
   "source": [
    "type() fonksiyonu\n",
    "\n",
    "İçine girilen verinin tipini gösterir.\n",
    "\n",
    "Örneğin integer tipinde bir veri tanımlayıp type fonksiyonuna gönderelim:\n"
   ]
  },
  {
   "cell_type": "code",
   "execution_count": 18,
   "metadata": {
    "colab": {
     "autoexec": {
      "startup": false,
      "wait_interval": 0
     },
     "base_uri": "https://localhost:8080/",
     "height": 34,
     "output_extras": [
      {
       "item_id": 1
      }
     ]
    },
    "colab_type": "code",
    "executionInfo": {
     "elapsed": 614,
     "status": "ok",
     "timestamp": 1518467687037,
     "user": {
      "displayName": "Özer ÇELİK",
      "photoUrl": "//lh5.googleusercontent.com/-zXWHLydZydg/AAAAAAAAAAI/AAAAAAAACUE/Vk-d5hrZI64/s50-c-k-no/photo.jpg",
      "userId": "109393400238666254492"
     },
     "user_tz": -120
    },
    "id": "xsDHiQe4I5ak",
    "outputId": "388edd25-67ba-46b7-a7cf-ed778d6f1c6e"
   },
   "outputs": [
    {
     "name": "stdout",
     "output_type": "stream",
     "text": [
      "<class 'int'>\n"
     ]
    }
   ],
   "source": [
    "a=5\n",
    "print( type(a) )"
   ]
  },
  {
   "cell_type": "markdown",
   "metadata": {
    "colab_type": "text",
    "id": "GXeHrSbWI-gM"
   },
   "source": [
    "## sep parametresi\n",
    "\n",
    "Virgül ile ayrılmış iki veri tipinin yazılması sırasında birbirinden ayrılırken araya varsayılan olarak bir karakterlik boşluk bırakılır. Bu boşluğu değiştirip isteğe göre düzenleyebiliriz.\n",
    "\n",
    "Örneğin:"
   ]
  },
  {
   "cell_type": "code",
   "execution_count": 13,
   "metadata": {
    "colab": {
     "autoexec": {
      "startup": false,
      "wait_interval": 0
     },
     "base_uri": "https://localhost:8080/",
     "height": 34,
     "output_extras": [
      {
       "item_id": 1
      }
     ]
    },
    "colab_type": "code",
    "executionInfo": {
     "elapsed": 655,
     "status": "ok",
     "timestamp": 1518467687800,
     "user": {
      "displayName": "Özer ÇELİK",
      "photoUrl": "//lh5.googleusercontent.com/-zXWHLydZydg/AAAAAAAAAAI/AAAAAAAACUE/Vk-d5hrZI64/s50-c-k-no/photo.jpg",
      "userId": "109393400238666254492"
     },
     "user_tz": -120
    },
    "id": "NneEd0wWKEvP",
    "outputId": "c9aecefa-eecf-4625-bddb-dd7657d55802"
   },
   "outputs": [
    {
     "name": "stdout",
     "output_type": "stream",
     "text": [
      "Bilgisayar Programlama 2\n"
     ]
    }
   ],
   "source": [
    "print(\"Bilgisayar\",\"Programlama\",\"2\")"
   ]
  },
  {
   "cell_type": "code",
   "execution_count": 5,
   "metadata": {
    "colab": {
     "autoexec": {
      "startup": false,
      "wait_interval": 0
     },
     "base_uri": "https://localhost:8080/",
     "height": 34,
     "output_extras": [
      {
       "item_id": 1
      }
     ]
    },
    "colab_type": "code",
    "executionInfo": {
     "elapsed": 658,
     "status": "ok",
     "timestamp": 1518467688561,
     "user": {
      "displayName": "Özer ÇELİK",
      "photoUrl": "//lh5.googleusercontent.com/-zXWHLydZydg/AAAAAAAAAAI/AAAAAAAACUE/Vk-d5hrZI64/s50-c-k-no/photo.jpg",
      "userId": "109393400238666254492"
     },
     "user_tz": -120
    },
    "id": "Pik9NmM2KNk0",
    "outputId": "149bfcd7-5f71-4944-fc9d-eac8cf85c0a1"
   },
   "outputs": [
    {
     "name": "stdout",
     "output_type": "stream",
     "text": [
      "Bilgisayar**Programlama\n"
     ]
    }
   ],
   "source": [
    "print(\"Bilgisayar\",\"Programlama\",sep=\"**\")"
   ]
  },
  {
   "cell_type": "code",
   "execution_count": 14,
   "metadata": {
    "colab": {
     "autoexec": {
      "startup": false,
      "wait_interval": 0
     },
     "base_uri": "https://localhost:8080/",
     "height": 51,
     "output_extras": [
      {
       "item_id": 1
      }
     ]
    },
    "colab_type": "code",
    "executionInfo": {
     "elapsed": 600,
     "status": "ok",
     "timestamp": 1518467689254,
     "user": {
      "displayName": "Özer ÇELİK",
      "photoUrl": "//lh5.googleusercontent.com/-zXWHLydZydg/AAAAAAAAAAI/AAAAAAAACUE/Vk-d5hrZI64/s50-c-k-no/photo.jpg",
      "userId": "109393400238666254492"
     },
     "user_tz": -120
    },
    "id": "QSBHjZVpKScy",
    "outputId": "3edb90f5-cf09-4604-bf0e-f4189596f12d"
   },
   "outputs": [
    {
     "name": "stdout",
     "output_type": "stream",
     "text": [
      "Bilgisayar\n",
      "Programlama\n"
     ]
    }
   ],
   "source": [
    "print(\"Bilgisayar\",\"Programlama\",sep=\"\\n\")"
   ]
  },
  {
   "cell_type": "markdown",
   "metadata": {
    "colab_type": "text",
    "id": "0WcYTGDOLO-6"
   },
   "source": [
    "## Yıldızlı Parametreler\n",
    "\n",
    "Stringlerin içindeki her bir karakterin, print fonksiyonuna ayrı ayrı gönderilmiş bir veri olarak algılar.\n",
    "\n",
    "Örneğin:"
   ]
  },
  {
   "cell_type": "code",
   "execution_count": 15,
   "metadata": {
    "colab": {
     "autoexec": {
      "startup": false,
      "wait_interval": 0
     },
     "base_uri": "https://localhost:8080/",
     "height": 54,
     "output_extras": [
      {
       "item_id": 1
      }
     ]
    },
    "colab_type": "code",
    "executionInfo": {
     "elapsed": 623,
     "status": "ok",
     "timestamp": 1518467689958,
     "user": {
      "displayName": "Özer ÇELİK",
      "photoUrl": "//lh5.googleusercontent.com/-zXWHLydZydg/AAAAAAAAAAI/AAAAAAAACUE/Vk-d5hrZI64/s50-c-k-no/photo.jpg",
      "userId": "109393400238666254492"
     },
     "user_tz": -120
    },
    "id": "5toneIBMLxRH",
    "outputId": "648fa820-9951-4848-e7d4-5de33462d123"
   },
   "outputs": [
    {
     "name": "stdout",
     "output_type": "stream",
     "text": [
      "S e l a m\n"
     ]
    }
   ],
   "source": [
    "print(*\"Selam\")"
   ]
  },
  {
   "cell_type": "code",
   "execution_count": 6,
   "metadata": {
    "colab": {
     "autoexec": {
      "startup": false,
      "wait_interval": 0
     },
     "base_uri": "https://localhost:8080/",
     "height": 54,
     "output_extras": [
      {
       "item_id": 1
      }
     ]
    },
    "colab_type": "code",
    "executionInfo": {
     "elapsed": 699,
     "status": "ok",
     "timestamp": 1518467690743,
     "user": {
      "displayName": "Özer ÇELİK",
      "photoUrl": "//lh5.googleusercontent.com/-zXWHLydZydg/AAAAAAAAAAI/AAAAAAAACUE/Vk-d5hrZI64/s50-c-k-no/photo.jpg",
      "userId": "109393400238666254492"
     },
     "user_tz": -120
    },
    "id": "Zo8acjGpL0L0",
    "outputId": "28ef61fd-e877-4de2-fc68-255b89598858"
   },
   "outputs": [
    {
     "name": "stdout",
     "output_type": "stream",
     "text": [
      "T B M M\n"
     ]
    }
   ],
   "source": [
    "print(*\"TBMM\")"
   ]
  },
  {
   "cell_type": "code",
   "execution_count": 7,
   "metadata": {},
   "outputs": [
    {
     "name": "stdout",
     "output_type": "stream",
     "text": [
      "M a t b i l   E S O G U\n"
     ]
    }
   ],
   "source": [
    "print(*\"Matbil ESOGU\")"
   ]
  },
  {
   "cell_type": "markdown",
   "metadata": {
    "colab_type": "text",
    "id": "oo6685ZTML4o"
   },
   "source": [
    "## Formatlama\n",
    "\n",
    "Print fonksiyonunda kullanacağımız değişkenlerin konumlarını öncelikle string içinde { } ile belirleyip daha sonra formatlama ile düzenleyebiliriz.\n",
    "\n",
    "ismim ÖZER, soyismim ÇELİK\n",
    "\n",
    "Örneğin:"
   ]
  },
  {
   "cell_type": "code",
   "execution_count": 15,
   "metadata": {
    "colab": {
     "autoexec": {
      "startup": false,
      "wait_interval": 0
     },
     "base_uri": "https://localhost:8080/",
     "height": 54,
     "output_extras": [
      {
       "item_id": 1
      }
     ]
    },
    "colab_type": "code",
    "executionInfo": {
     "elapsed": 661,
     "status": "ok",
     "timestamp": 1518467691458,
     "user": {
      "displayName": "Özer ÇELİK",
      "photoUrl": "//lh5.googleusercontent.com/-zXWHLydZydg/AAAAAAAAAAI/AAAAAAAACUE/Vk-d5hrZI64/s50-c-k-no/photo.jpg",
      "userId": "109393400238666254492"
     },
     "user_tz": -120
    },
    "id": "WTEYVU3eNBE5",
    "outputId": "51824e1e-9839-4e2b-f25a-ae789937e630"
   },
   "outputs": [
    {
     "name": "stdout",
     "output_type": "stream",
     "text": [
      "a değeri: 5 , b değeri: 3, c değeri: 2\n",
      "a değeri: 5 b değeri: 3 c değeri: 2\n"
     ]
    }
   ],
   "source": [
    "a=5\n",
    "b=3\n",
    "c=2\n",
    "print(\"a değeri: {} , b değeri: {}, c değeri: {}\".format(a,b,c))\n",
    "print(\"a değeri:\",a,\"b değeri:\",b,\"c değeri:\",c)\n",
    "\n",
    "\n"
   ]
  },
  {
   "cell_type": "code",
   "execution_count": 12,
   "metadata": {
    "colab": {
     "autoexec": {
      "startup": false,
      "wait_interval": 0
     },
     "base_uri": "https://localhost:8080/",
     "height": 105,
     "output_extras": [
      {
       "item_id": 1
      }
     ]
    },
    "colab_type": "code",
    "executionInfo": {
     "elapsed": 636,
     "status": "ok",
     "timestamp": 1518467692181,
     "user": {
      "displayName": "Özer ÇELİK",
      "photoUrl": "//lh5.googleusercontent.com/-zXWHLydZydg/AAAAAAAAAAI/AAAAAAAACUE/Vk-d5hrZI64/s50-c-k-no/photo.jpg",
      "userId": "109393400238666254492"
     },
     "user_tz": -120
    },
    "id": "BQzfGJh2MeSA",
    "outputId": "279f251d-362f-45fa-902a-91124098dd0a"
   },
   "outputs": [
    {
     "name": "stdout",
     "output_type": "stream",
     "text": [
      "\n",
      "218 Numaralı öğrencimiz;\n",
      "Ortalamanız 70 ve durumunuz geçti\n",
      "\n"
     ]
    }
   ],
   "source": [
    "numara=218\n",
    "ortalama=70\n",
    "durum=\"geçti\"\n",
    "print(\"\"\"\n",
    "{} Numaralı öğrencimiz;\n",
    "Ortalamanız {} ve durumunuz {}\n",
    "\"\"\".format(numara,ortalama,durum))\n",
    "\n",
    "# pythonda \"\"\" \"\"\" 3lü cift tırnak arasına çoklu satırlı string yazılabilir.\n",
    "\n"
   ]
  },
  {
   "cell_type": "markdown",
   "metadata": {
    "colab_type": "text",
    "id": "TfnnwPVkUu4F"
   },
   "source": [
    "# Input fonksiyonu"
   ]
  },
  {
   "cell_type": "markdown",
   "metadata": {
    "colab_type": "text",
    "id": "IxUjFvPYnADx"
   },
   "source": [
    "Kullanıcıdan herhangi bir değişkeni almak için input fonksiyonu kullanılabilir. Kullanım şekli kullanıcıdan alınan bir veriyi bir değişkene atama şeklinde yapılabilir.\n",
    "*Örneğin;* a=input(\"Bir sayı giriniz. :\")"
   ]
  },
  {
   "cell_type": "code",
   "execution_count": 19,
   "metadata": {
    "colab": {
     "autoexec": {
      "startup": false,
      "wait_interval": 0
     }
    },
    "colab_type": "code",
    "id": "PyMSzLlpnlgN"
   },
   "outputs": [
    {
     "name": "stdout",
     "output_type": "stream",
     "text": [
      "Bir sayı giriniz :23\n",
      "isminizi giriniz lütfen:ali\n",
      "Girmiş olduğunuz sayı: 23 isim ali\n"
     ]
    }
   ],
   "source": [
    "a=input(\"Bir sayı giriniz :\")\n",
    "\n",
    "b=input(\"isminizi giriniz lütfen:\")\n",
    "\n",
    "print(\"Girmiş olduğunuz sayı:\",a,\"isim:\",b)"
   ]
  },
  {
   "cell_type": "code",
   "execution_count": 15,
   "metadata": {},
   "outputs": [
    {
     "name": "stdout",
     "output_type": "stream",
     "text": [
      "isminiz:ali\n",
      "soyisminiz:veli\n",
      "öğrenci no:4950\n",
      "öğrenci no: 4950 , isim ali , soyisim veli\n"
     ]
    }
   ],
   "source": [
    "isim=input(\"isminiz:\")\n",
    "soyisim=input(\"soyisminiz:\")\n",
    "ogrenci_no=input(\"öğrenci no:\")\n",
    "print(\"öğrenci no: {} , isim: {} , soyisim: {}\".format(ogrenci_no,isim,soyisim))"
   ]
  },
  {
   "cell_type": "markdown",
   "metadata": {
    "colab_type": "text",
    "id": "2aLAU_jcnyFU"
   },
   "source": [
    "Benzer şekilde string,float,liste gibi veriler de alınabilir."
   ]
  },
  {
   "cell_type": "code",
   "execution_count": 42,
   "metadata": {
    "colab": {
     "autoexec": {
      "startup": false,
      "wait_interval": 0
     },
     "base_uri": "https://localhost:8080/",
     "height": 136,
     "output_extras": [
      {
       "item_id": 6
      }
     ]
    },
    "colab_type": "code",
    "executionInfo": {
     "elapsed": 22506,
     "status": "ok",
     "timestamp": 1518300895346,
     "user": {
      "displayName": "Ersin Sığınç",
      "photoUrl": "https://lh3.googleusercontent.com/a/default-user=s128",
      "userId": "116971180065498659330"
     },
     "user_tz": -180
    },
    "id": "82xfVbK1n8dE",
    "outputId": "8fb2151c-60f2-49b0-8fc8-050f7a666289"
   },
   "outputs": [
    {
     "name": "stdout",
     "output_type": "stream",
     "text": [
      "Bir string giriniz.2\n",
      "Bir ondalıklı sayı girinniz.2\n",
      "Bir boolean giriniz.0\n",
      "2 2.0 True\n",
      "<class 'str'> <class 'float'> <class 'bool'>\n"
     ]
    }
   ],
   "source": [
    "s=str(input(\"Bir string giriniz.\"))\n",
    "f=float(input(\"Bir ondalıklı sayı girinniz.\"))\n",
    "b=bool(input(\"Bir boolean giriniz.\"))\n",
    "print(s,f,b)\n",
    "print(type(s),type(f),type(b))"
   ]
  },
  {
   "cell_type": "markdown",
   "metadata": {
    "colab_type": "text",
    "id": "t-lIROnPqd5A"
   },
   "source": [
    "Eğer veri tipini belirlemezsek string olarak alacaktır."
   ]
  },
  {
   "cell_type": "code",
   "execution_count": 43,
   "metadata": {
    "colab": {
     "autoexec": {
      "startup": false,
      "wait_interval": 0
     },
     "base_uri": "https://localhost:8080/",
     "height": 153,
     "output_extras": [
      {
       "item_id": 7
      }
     ]
    },
    "colab_type": "code",
    "executionInfo": {
     "elapsed": 35782,
     "status": "ok",
     "timestamp": 1518300216916,
     "user": {
      "displayName": "Ersin Sığınç",
      "photoUrl": "https://lh3.googleusercontent.com/a/default-user=s128",
      "userId": "116971180065498659330"
     },
     "user_tz": -180
    },
    "id": "jXvCkrcGqIqs",
    "outputId": "00c74c2c-c2ae-4b41-a5de-fb1432654632"
   },
   "outputs": [
    {
     "name": "stdout",
     "output_type": "stream",
     "text": [
      "Bir string giriniz.ee\n",
      "Bir ondalıklı sayı girinniz.2.2\n",
      "Bir boolean giriniz.false\n",
      "Bir sayı giriniz.22\n",
      "ee 2.2 false 2222\n",
      "<class 'str'> <class 'str'> <class 'str'>\n"
     ]
    }
   ],
   "source": [
    "s=(input(\"Bir string giriniz.\"))\n",
    "f=(input(\"Bir ondalıklı sayı girinniz.\"))\n",
    "b=(input(\"Bir boolean giriniz.\"))\n",
    "i=input(\"Bir sayı giriniz.\")\n",
    "# i değişkenini de Bir string olarak algıladığı için\n",
    "\n",
    "print(s,f,b,i*2)   \n",
    "#2 katını hesapladığımız zaman string olarak çarpar ,yani 2 defa yazar.\n",
    "print(type(s),type(f),type(b))"
   ]
  },
  {
   "cell_type": "markdown",
   "metadata": {
    "colab_type": "text",
    "id": "I-JgWBRuk0b_"
   },
   "source": [
    "# **Veri Tipi Dönüşümleri**\n",
    "\n",
    "Python'da veri tiplerini birbirine dönüştürebiliyoruz.\n",
    "\n",
    "Örneğin string olarak elimizde olan bir sayıyı, tam sayı tipine dönüştürebiliyoruz. Aynı şekilde bir tam sayıyı stringe de çevirebiliriz.\n",
    "\n",
    "Örnek olarak 3 farklı tipte veri oluşturalım:"
   ]
  },
  {
   "cell_type": "code",
   "execution_count": 45,
   "metadata": {
    "colab": {
     "autoexec": {
      "startup": false,
      "wait_interval": 0
     }
    },
    "colab_type": "code",
    "id": "KMADzsZ8lSeS"
   },
   "outputs": [],
   "source": [
    "tamsayi=5\n",
    "ondalikli=7.5\n",
    "string=\"10\""
   ]
  },
  {
   "cell_type": "markdown",
   "metadata": {
    "colab_type": "text",
    "id": "IIHD-ElIlbjU"
   },
   "source": [
    "Burada tam sayı ve float tipindeki verilerde matematisel işlemler yapabiliriz. String tipindeki verimizde matematiksel işlem yapmak için onu integer veya float tipine dönüştürmemiz lazım.\n",
    "\n",
    "\n",
    "\n"
   ]
  },
  {
   "cell_type": "markdown",
   "metadata": {
    "colab_type": "text",
    "id": "TG5a44buC-lR"
   },
   "source": [
    "**Tam Sayıya Çevirme**\n",
    "\n",
    "int(x)\n",
    "\n",
    "x verisini int tipine çevirir."
   ]
  },
  {
   "cell_type": "code",
   "execution_count": 50,
   "metadata": {
    "colab": {
     "autoexec": {
      "startup": false,
      "wait_interval": 0
     },
     "base_uri": "https://localhost:8080/",
     "height": 51,
     "output_extras": [
      {
       "item_id": 1
      }
     ]
    },
    "colab_type": "code",
    "executionInfo": {
     "elapsed": 707,
     "status": "ok",
     "timestamp": 1518261127307,
     "user": {
      "displayName": "Özer ÇELİK",
      "photoUrl": "//lh5.googleusercontent.com/-zXWHLydZydg/AAAAAAAAAAI/AAAAAAAACUE/Vk-d5hrZI64/s50-c-k-no/photo.jpg",
      "userId": "109393400238666254492"
     },
     "user_tz": -120
    },
    "id": "OQs_DhghmRTE",
    "outputId": "33d18ed2-ca63-44cd-eec4-c32e84563eba"
   },
   "outputs": [
    {
     "name": "stdout",
     "output_type": "stream",
     "text": [
      "<class 'int'> 7\n",
      "<class 'int'> 10\n"
     ]
    }
   ],
   "source": [
    "tamsayi=int(ondalikli)\n",
    "print(type(tamsayi),tamsayi)\n",
    "\n",
    "string=int(string)\n",
    "print(type(string),string)\n"
   ]
  },
  {
   "cell_type": "markdown",
   "metadata": {
    "colab_type": "text",
    "id": "ADKKMqmhDMHH"
   },
   "source": [
    "**Ondalıklı Sayıya Çevirme**\n",
    "\n",
    "float(x)\n",
    "\n",
    "x verisini float tipine çevirir."
   ]
  },
  {
   "cell_type": "code",
   "execution_count": 14,
   "metadata": {
    "colab": {
     "autoexec": {
      "startup": false,
      "wait_interval": 0
     },
     "base_uri": "https://localhost:8080/",
     "height": 34,
     "output_extras": [
      {
       "item_id": 1
      }
     ]
    },
    "colab_type": "code",
    "executionInfo": {
     "elapsed": 869,
     "status": "ok",
     "timestamp": 1518261128285,
     "user": {
      "displayName": "Özer ÇELİK",
      "photoUrl": "//lh5.googleusercontent.com/-zXWHLydZydg/AAAAAAAAAAI/AAAAAAAACUE/Vk-d5hrZI64/s50-c-k-no/photo.jpg",
      "userId": "109393400238666254492"
     },
     "user_tz": -120
    },
    "id": "8Z7vSztADdWa",
    "outputId": "39206f4c-30da-4499-ef61-37ddb267175a"
   },
   "outputs": [
    {
     "name": "stdout",
     "output_type": "stream",
     "text": [
      "<class 'float'> 7.0\n"
     ]
    }
   ],
   "source": [
    "tamsayi=float(tamsayi)\n",
    "print(type(tamsayi),tamsayi)"
   ]
  },
  {
   "cell_type": "markdown",
   "metadata": {
    "colab_type": "text",
    "id": "wQKE0FKDDWR-"
   },
   "source": [
    "\n",
    "**Stringe Çevirme**\n",
    "\n",
    "str(x)\n",
    "\n",
    "x verisini string tipine çevirir."
   ]
  },
  {
   "cell_type": "code",
   "execution_count": 15,
   "metadata": {
    "colab": {
     "autoexec": {
      "startup": false,
      "wait_interval": 0
     },
     "base_uri": "https://localhost:8080/",
     "height": 34,
     "output_extras": [
      {
       "item_id": 1
      }
     ]
    },
    "colab_type": "code",
    "executionInfo": {
     "elapsed": 617,
     "status": "ok",
     "timestamp": 1518261129018,
     "user": {
      "displayName": "Özer ÇELİK",
      "photoUrl": "//lh5.googleusercontent.com/-zXWHLydZydg/AAAAAAAAAAI/AAAAAAAACUE/Vk-d5hrZI64/s50-c-k-no/photo.jpg",
      "userId": "109393400238666254492"
     },
     "user_tz": -120
    },
    "id": "WgV9oO2fuALi",
    "outputId": "490a0fd4-5271-450f-c930-dc37e5f9e35b"
   },
   "outputs": [
    {
     "name": "stdout",
     "output_type": "stream",
     "text": [
      "<class 'str'> 10\n"
     ]
    }
   ],
   "source": [
    "tamsayi=10\n",
    "string=str(tamsayi)\n",
    "print(type(string),string)"
   ]
  },
  {
   "cell_type": "markdown",
   "metadata": {
    "colab_type": "text",
    "id": "kssT5rPx62J5"
   },
   "source": [
    "# Temel Matematik Operatörler Kullanımları"
   ]
  },
  {
   "cell_type": "markdown",
   "metadata": {
    "colab_type": "text",
    "id": "GXeoT6_n7cqv"
   },
   "source": [
    "**Python dilinde matematik operatörleri;**\n",
    "\n",
    "* Toplama (+)\n",
    "\n",
    "* Çıkarma (-)\n",
    "\n",
    "* Çarpma (*)\n",
    "\n",
    "* Bölme (/)\n",
    "\n",
    "* Üs Alma (**)\n",
    "\n",
    "* Mod Alma (%)\n",
    "\n",
    "* Kalansız Bölme (//)\n",
    "\n",
    "\n",
    "**Örnek Olarak:**\n"
   ]
  },
  {
   "cell_type": "markdown",
   "metadata": {
    "colab_type": "text",
    "id": "fOY3mUqU-Jk8"
   },
   "source": [
    "**Toplama(+)**"
   ]
  },
  {
   "cell_type": "code",
   "execution_count": 16,
   "metadata": {
    "colab": {
     "autoexec": {
      "startup": false,
      "wait_interval": 0
     },
     "base_uri": "https://localhost:8080/",
     "height": 34,
     "output_extras": [
      {
       "item_id": 1
      }
     ]
    },
    "colab_type": "code",
    "executionInfo": {
     "elapsed": 639,
     "status": "ok",
     "timestamp": 1518261129786,
     "user": {
      "displayName": "Özer ÇELİK",
      "photoUrl": "//lh5.googleusercontent.com/-zXWHLydZydg/AAAAAAAAAAI/AAAAAAAACUE/Vk-d5hrZI64/s50-c-k-no/photo.jpg",
      "userId": "109393400238666254492"
     },
     "user_tz": -120
    },
    "id": "5KyH7Tln-Ogg",
    "outputId": "7fea062c-9ca6-4999-aa49-e6540bbd46de"
   },
   "outputs": [
    {
     "data": {
      "text/plain": [
       "36"
      ]
     },
     "execution_count": 16,
     "metadata": {
      "tags": []
     },
     "output_type": "execute_result"
    }
   ],
   "source": [
    "x=10\n",
    "y=3\n",
    "z=23\n",
    "\n",
    "x+y+z"
   ]
  },
  {
   "cell_type": "code",
   "execution_count": 17,
   "metadata": {
    "colab": {
     "autoexec": {
      "startup": false,
      "wait_interval": 0
     },
     "base_uri": "https://localhost:8080/",
     "height": 34,
     "output_extras": [
      {
       "item_id": 1
      }
     ]
    },
    "colab_type": "code",
    "executionInfo": {
     "elapsed": 626,
     "status": "ok",
     "timestamp": 1518261130518,
     "user": {
      "displayName": "Özer ÇELİK",
      "photoUrl": "//lh5.googleusercontent.com/-zXWHLydZydg/AAAAAAAAAAI/AAAAAAAACUE/Vk-d5hrZI64/s50-c-k-no/photo.jpg",
      "userId": "109393400238666254492"
     },
     "user_tz": -120
    },
    "id": "6GJCBGEb-fDx",
    "outputId": "b04613de-9ff4-4ccf-b9cc-efc5982dfc23"
   },
   "outputs": [
    {
     "data": {
      "text/plain": [
       "4.4"
      ]
     },
     "execution_count": 17,
     "metadata": {
      "tags": []
     },
     "output_type": "execute_result"
    }
   ],
   "source": [
    "x=1.1\n",
    "y=3.3\n",
    "\n",
    "x+y"
   ]
  },
  {
   "cell_type": "markdown",
   "metadata": {
    "colab_type": "text",
    "id": "SPXQzA6G-tjS"
   },
   "source": [
    "**Çıkarma(-)**"
   ]
  },
  {
   "cell_type": "code",
   "execution_count": 18,
   "metadata": {
    "colab": {
     "autoexec": {
      "startup": false,
      "wait_interval": 0
     },
     "base_uri": "https://localhost:8080/",
     "height": 34,
     "output_extras": [
      {
       "item_id": 1
      }
     ]
    },
    "colab_type": "code",
    "executionInfo": {
     "elapsed": 673,
     "status": "ok",
     "timestamp": 1518261131280,
     "user": {
      "displayName": "Özer ÇELİK",
      "photoUrl": "//lh5.googleusercontent.com/-zXWHLydZydg/AAAAAAAAAAI/AAAAAAAACUE/Vk-d5hrZI64/s50-c-k-no/photo.jpg",
      "userId": "109393400238666254492"
     },
     "user_tz": -120
    },
    "id": "hE6un5Ob-0pr",
    "outputId": "c90a1aab-2d56-46f4-d47e-45ea1c05ee5f"
   },
   "outputs": [
    {
     "name": "stdout",
     "output_type": "stream",
     "text": [
      "7\n"
     ]
    }
   ],
   "source": [
    "x=10\n",
    "y=3\n",
    "z=23\n",
    "\n",
    "z=x-y\n",
    "print(z)"
   ]
  },
  {
   "cell_type": "markdown",
   "metadata": {
    "colab_type": "text",
    "id": "y3q747H4J95p"
   },
   "source": [
    "**Çarpma(*)**"
   ]
  },
  {
   "cell_type": "code",
   "execution_count": 19,
   "metadata": {
    "colab": {
     "autoexec": {
      "startup": false,
      "wait_interval": 0
     },
     "base_uri": "https://localhost:8080/",
     "height": 34,
     "output_extras": [
      {
       "item_id": 1
      }
     ]
    },
    "colab_type": "code",
    "executionInfo": {
     "elapsed": 595,
     "status": "ok",
     "timestamp": 1518261132022,
     "user": {
      "displayName": "Özer ÇELİK",
      "photoUrl": "//lh5.googleusercontent.com/-zXWHLydZydg/AAAAAAAAAAI/AAAAAAAACUE/Vk-d5hrZI64/s50-c-k-no/photo.jpg",
      "userId": "109393400238666254492"
     },
     "user_tz": -120
    },
    "id": "uz89i_WiKHlW",
    "outputId": "2d08128a-77e4-4feb-8185-79497bcc6627"
   },
   "outputs": [
    {
     "name": "stdout",
     "output_type": "stream",
     "text": [
      "12\n"
     ]
    }
   ],
   "source": [
    "a=4\n",
    "b=3\n",
    "c=a*b\n",
    "print(c)"
   ]
  },
  {
   "cell_type": "markdown",
   "metadata": {
    "colab_type": "text",
    "id": "5maqh9DpKrUq"
   },
   "source": [
    "**Kalansız Bölme(//)**"
   ]
  },
  {
   "cell_type": "code",
   "execution_count": 20,
   "metadata": {
    "colab": {
     "autoexec": {
      "startup": false,
      "wait_interval": 0
     },
     "base_uri": "https://localhost:8080/",
     "height": 34,
     "output_extras": [
      {
       "item_id": 1
      }
     ]
    },
    "colab_type": "code",
    "executionInfo": {
     "elapsed": 471,
     "status": "ok",
     "timestamp": 1518261132622,
     "user": {
      "displayName": "Özer ÇELİK",
      "photoUrl": "//lh5.googleusercontent.com/-zXWHLydZydg/AAAAAAAAAAI/AAAAAAAACUE/Vk-d5hrZI64/s50-c-k-no/photo.jpg",
      "userId": "109393400238666254492"
     },
     "user_tz": -120
    },
    "id": "HoRMK34XKb37",
    "outputId": "8cbe9608-b686-46ed-eff4-9a8b10fe7170"
   },
   "outputs": [
    {
     "name": "stdout",
     "output_type": "stream",
     "text": [
      "12\n"
     ]
    }
   ],
   "source": [
    "a=25\n",
    "b=2\n",
    "c=a//b\n",
    "print(c)"
   ]
  },
  {
   "cell_type": "markdown",
   "metadata": {
    "colab_type": "text",
    "id": "IL3d02O5K7io"
   },
   "source": [
    "**Bölme(/)**"
   ]
  },
  {
   "cell_type": "code",
   "execution_count": 21,
   "metadata": {
    "colab": {
     "autoexec": {
      "startup": false,
      "wait_interval": 0
     },
     "base_uri": "https://localhost:8080/",
     "height": 34,
     "output_extras": [
      {
       "item_id": 1
      }
     ]
    },
    "colab_type": "code",
    "executionInfo": {
     "elapsed": 605,
     "status": "ok",
     "timestamp": 1518261133359,
     "user": {
      "displayName": "Özer ÇELİK",
      "photoUrl": "//lh5.googleusercontent.com/-zXWHLydZydg/AAAAAAAAAAI/AAAAAAAACUE/Vk-d5hrZI64/s50-c-k-no/photo.jpg",
      "userId": "109393400238666254492"
     },
     "user_tz": -120
    },
    "id": "pnp5ifcYK-u_",
    "outputId": "df054295-db96-4a15-9b6f-2f555f7eb281"
   },
   "outputs": [
    {
     "name": "stdout",
     "output_type": "stream",
     "text": [
      "12.5\n"
     ]
    }
   ],
   "source": [
    "a=25\n",
    "b=2\n",
    "c=a/b\n",
    "print(c)"
   ]
  },
  {
   "cell_type": "markdown",
   "metadata": {
    "colab_type": "text",
    "id": "GOC366YKLM_G"
   },
   "source": [
    "**Üs Alma(****)"
   ]
  },
  {
   "cell_type": "code",
   "execution_count": 22,
   "metadata": {
    "colab": {
     "autoexec": {
      "startup": false,
      "wait_interval": 0
     },
     "base_uri": "https://localhost:8080/",
     "height": 34,
     "output_extras": [
      {
       "item_id": 1
      }
     ]
    },
    "colab_type": "code",
    "executionInfo": {
     "elapsed": 596,
     "status": "ok",
     "timestamp": 1518261134087,
     "user": {
      "displayName": "Özer ÇELİK",
      "photoUrl": "//lh5.googleusercontent.com/-zXWHLydZydg/AAAAAAAAAAI/AAAAAAAACUE/Vk-d5hrZI64/s50-c-k-no/photo.jpg",
      "userId": "109393400238666254492"
     },
     "user_tz": -120
    },
    "id": "3Wt4TtENLK8X",
    "outputId": "8d73bc9c-e40d-4899-d166-8ba608588363"
   },
   "outputs": [
    {
     "name": "stdout",
     "output_type": "stream",
     "text": [
      "9\n"
     ]
    }
   ],
   "source": [
    "a=3\n",
    "print(a**2)"
   ]
  },
  {
   "cell_type": "code",
   "execution_count": 23,
   "metadata": {
    "colab": {
     "autoexec": {
      "startup": false,
      "wait_interval": 0
     },
     "base_uri": "https://localhost:8080/",
     "height": 34,
     "output_extras": [
      {
       "item_id": 1
      }
     ]
    },
    "colab_type": "code",
    "executionInfo": {
     "elapsed": 647,
     "status": "ok",
     "timestamp": 1518261134816,
     "user": {
      "displayName": "Özer ÇELİK",
      "photoUrl": "//lh5.googleusercontent.com/-zXWHLydZydg/AAAAAAAAAAI/AAAAAAAACUE/Vk-d5hrZI64/s50-c-k-no/photo.jpg",
      "userId": "109393400238666254492"
     },
     "user_tz": -120
    },
    "id": "n-8J2yaQLz4f",
    "outputId": "a881ccdf-7cea-49c9-ab1c-b6c8435f1254"
   },
   "outputs": [
    {
     "name": "stdout",
     "output_type": "stream",
     "text": [
      "9\n"
     ]
    }
   ],
   "source": [
    "a=3\n",
    "b=a**2\n",
    "print(b)"
   ]
  },
  {
   "cell_type": "markdown",
   "metadata": {
    "colab_type": "text",
    "id": "iF3b5FafMCOO"
   },
   "source": [
    "**Mod Alma(%)**"
   ]
  },
  {
   "cell_type": "code",
   "execution_count": 24,
   "metadata": {
    "colab": {
     "autoexec": {
      "startup": false,
      "wait_interval": 0
     },
     "base_uri": "https://localhost:8080/",
     "height": 34,
     "output_extras": [
      {
       "item_id": 1
      }
     ]
    },
    "colab_type": "code",
    "executionInfo": {
     "elapsed": 664,
     "status": "ok",
     "timestamp": 1518261135571,
     "user": {
      "displayName": "Özer ÇELİK",
      "photoUrl": "//lh5.googleusercontent.com/-zXWHLydZydg/AAAAAAAAAAI/AAAAAAAACUE/Vk-d5hrZI64/s50-c-k-no/photo.jpg",
      "userId": "109393400238666254492"
     },
     "user_tz": -120
    },
    "id": "bt6qEn7zMHR1",
    "outputId": "0da59a82-d54f-4a88-d05b-2f55b6032546"
   },
   "outputs": [
    {
     "name": "stdout",
     "output_type": "stream",
     "text": [
      "1\n"
     ]
    }
   ],
   "source": [
    "a=10\n",
    "b=3\n",
    "c=a%b\n",
    "print(c)"
   ]
  },
  {
   "cell_type": "code",
   "execution_count": 25,
   "metadata": {
    "colab": {
     "autoexec": {
      "startup": false,
      "wait_interval": 0
     },
     "base_uri": "https://localhost:8080/",
     "height": 34,
     "output_extras": [
      {
       "item_id": 1
      }
     ]
    },
    "colab_type": "code",
    "executionInfo": {
     "elapsed": 594,
     "status": "ok",
     "timestamp": 1518261136290,
     "user": {
      "displayName": "Özer ÇELİK",
      "photoUrl": "//lh5.googleusercontent.com/-zXWHLydZydg/AAAAAAAAAAI/AAAAAAAACUE/Vk-d5hrZI64/s50-c-k-no/photo.jpg",
      "userId": "109393400238666254492"
     },
     "user_tz": -120
    },
    "id": "whx0Mfx0MQej",
    "outputId": "a3a92752-aabb-44e8-805d-a114009bead0"
   },
   "outputs": [
    {
     "name": "stdout",
     "output_type": "stream",
     "text": [
      "1\n"
     ]
    }
   ],
   "source": [
    "a=10\n",
    "b=3\n",
    "print(a%b)"
   ]
  },
  {
   "cell_type": "markdown",
   "metadata": {
    "colab_type": "text",
    "id": "Mnstzgi87XtB"
   },
   "source": [
    "# Karakter Dizileri - Stringler"
   ]
  },
  {
   "cell_type": "markdown",
   "metadata": {
    "colab_type": "text",
    "id": "izasH4Yq7eg9"
   },
   "source": [
    "Stringler, harf,rakam,simgelerden oluşan karakter dizileridir.\n",
    "\n",
    "## Stringleri Tanımlama\n",
    "\n",
    "### Tek Satırlı Stringler\n",
    "\n",
    "Bir satırdan oluşan stringleri tanımlamanın 2 farklı yolu vardır. Eğer stringi tek tırnakla başlatırsanız tek tırnakla bitirmek zorundasınız. Aynı şekilde çift tırnak ile başlarsanız çift tırnak ile bitirmelisiniz. Örneğin:"
   ]
  },
  {
   "cell_type": "code",
   "execution_count": 54,
   "metadata": {
    "colab": {
     "autoexec": {
      "startup": false,
      "wait_interval": 0
     },
     "base_uri": "https://localhost:8080/",
     "height": 51,
     "output_extras": [
      {
       "item_id": 1
      }
     ]
    },
    "colab_type": "code",
    "executionInfo": {
     "elapsed": 684,
     "status": "ok",
     "timestamp": 1518261137072,
     "user": {
      "displayName": "Özer ÇELİK",
      "photoUrl": "//lh5.googleusercontent.com/-zXWHLydZydg/AAAAAAAAAAI/AAAAAAAACUE/Vk-d5hrZI64/s50-c-k-no/photo.jpg",
      "userId": "109393400238666254492"
     },
     "user_tz": -120
    },
    "id": "w6j0Xmgo2cxV",
    "outputId": "3f9ebed2-f377-4d2f-d1e6-e87f4018b172"
   },
   "outputs": [
    {
     "name": "stdout",
     "output_type": "stream",
     "text": [
      "Tek tırnaklı string\n",
      "Çift tırnaklı string\n",
      "Bilgisayar \n",
      " programlama\n"
     ]
    }
   ],
   "source": [
    "print('Tek tırnaklı string')\n",
    "print(\"Çift tırnaklı string\")\n",
    "\n",
    "string=\"Bilgisayar \"+'programlama'\n",
    "print(string)"
   ]
  },
  {
   "cell_type": "markdown",
   "metadata": {
    "colab_type": "text",
    "id": "AqJxFUib2i4w"
   },
   "source": [
    "Eğer tek tırnakla başlayıp çift tırnakla bitirirseniz veya çift tırnakla başlayıp tek tırnakla bitirirseniz söz dizimi hatası alırsınız."
   ]
  },
  {
   "cell_type": "code",
   "execution_count": 27,
   "metadata": {
    "colab": {
     "autoexec": {
      "startup": false,
      "wait_interval": 0
     },
     "base_uri": "https://localhost:8080/",
     "height": 130,
     "output_extras": [
      {
       "item_id": 1
      }
     ]
    },
    "colab_type": "code",
    "executionInfo": {
     "elapsed": 673,
     "status": "error",
     "timestamp": 1518261137795,
     "user": {
      "displayName": "Özer ÇELİK",
      "photoUrl": "//lh5.googleusercontent.com/-zXWHLydZydg/AAAAAAAAAAI/AAAAAAAACUE/Vk-d5hrZI64/s50-c-k-no/photo.jpg",
      "userId": "109393400238666254492"
     },
     "user_tz": -120
    },
    "id": "TXl_bHoX2rPN",
    "outputId": "f462ef53-6afe-4f8c-e9f5-e1b6382866bf"
   },
   "outputs": [
    {
     "ename": "SyntaxError",
     "evalue": "ignored",
     "output_type": "error",
     "traceback": [
      "\u001b[0;36m  File \u001b[0;32m\"<ipython-input-27-7513c961044f>\"\u001b[0;36m, line \u001b[0;32m1\u001b[0m\n\u001b[0;31m    print('Hatalı kullanım\")\u001b[0m\n\u001b[0m                            ^\u001b[0m\n\u001b[0;31mSyntaxError\u001b[0m\u001b[0;31m:\u001b[0m EOL while scanning string literal\n"
     ]
    }
   ],
   "source": [
    "print('Hatalı kullanım\")"
   ]
  },
  {
   "cell_type": "markdown",
   "metadata": {
    "colab_type": "text",
    "id": "y6fQE4Sg2x9n"
   },
   "source": [
    "## Birden Çok Satırlı Stringler\n",
    "\n",
    "Eğer stringinizde birden fazla satır kullanacaksanız, tanımlama için 3 adet çift tırnak ile tanımlamalısınız.\n",
    "\n",
    "Örneğin:"
   ]
  },
  {
   "cell_type": "code",
   "execution_count": 65,
   "metadata": {
    "colab": {
     "autoexec": {
      "startup": false,
      "wait_interval": 0
     },
     "base_uri": "https://localhost:8080/",
     "height": 153,
     "output_extras": [
      {
       "item_id": 1
      }
     ]
    },
    "colab_type": "code",
    "executionInfo": {
     "elapsed": 642,
     "status": "ok",
     "timestamp": 1518016954514,
     "user": {
      "displayName": "Yusuf Berki Yazıcıoğlu",
      "photoUrl": "//lh6.googleusercontent.com/-wS84FwGEYxE/AAAAAAAAAAI/AAAAAAAAAb4/FLOMxVmlrQI/s50-c-k-no/photo.jpg",
      "userId": "112338686734916187099"
     },
     "user_tz": -180
    },
    "id": "f2roPH1S3DKB",
    "outputId": "352f1d9c-b78a-4549-d787-f06352f59231"
   },
   "outputs": [
    {
     "name": "stdout",
     "output_type": "stream",
     "text": [
      "\n",
      "Merhaba\n",
      "Selam\n",
      "Python\n",
      ".\n",
      ".\n",
      ".\n",
      "\n"
     ]
    }
   ],
   "source": [
    "print(\"\"\"\n",
    "Merhaba\n",
    "Selam\n",
    "Python\n",
    ".\n",
    ".\n",
    ".\n",
    "\"\"\")\n",
    "\n"
   ]
  },
  {
   "cell_type": "markdown",
   "metadata": {
    "colab_type": "text",
    "id": "Own6l41X7geB"
   },
   "source": [
    "# Ders içi Uygulama"
   ]
  },
  {
   "cell_type": "markdown",
   "metadata": {
    "colab_type": "text",
    "id": "kqCgHQJw7t1j"
   },
   "source": [
    "Ders içi uygulama hazırlanacak"
   ]
  },
  {
   "cell_type": "markdown",
   "metadata": {
    "colab_type": "text",
    "id": "uuX8RM4i7jik"
   },
   "source": [
    "# Haftalık Ödev"
   ]
  },
  {
   "cell_type": "markdown",
   "metadata": {
    "colab_type": "text",
    "id": "SrDYr9qe7o0D"
   },
   "source": [
    "Haftalık Ödev sorusu hazırlanacak 5 er adet"
   ]
  }
 ],
 "metadata": {
  "colab": {
   "collapsed_sections": [
    "0WcYTGDOLO-6",
    "oo6685ZTML4o",
    "izasH4Yq7eg9",
    "y6fQE4Sg2x9n"
   ],
   "default_view": {},
   "name": "Ders1-Giris.ipynb",
   "provenance": [],
   "toc_visible": true,
   "version": "0.3.2",
   "views": {}
  },
  "kernelspec": {
   "display_name": "Python 3",
   "language": "python",
   "name": "python3"
  },
  "language_info": {
   "codemirror_mode": {
    "name": "ipython",
    "version": 3
   },
   "file_extension": ".py",
   "mimetype": "text/x-python",
   "name": "python",
   "nbconvert_exporter": "python",
   "pygments_lexer": "ipython3",
   "version": "3.5.4"
  }
 },
 "nbformat": 4,
 "nbformat_minor": 1
}
